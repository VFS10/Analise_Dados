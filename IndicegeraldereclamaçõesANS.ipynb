{
  "nbformat": 4,
  "nbformat_minor": 0,
  "metadata": {
    "colab": {
      "name": "IndicegeraldereclamaçõesANS.ipynb",
      "provenance": [],
      "include_colab_link": true
    },
    "kernelspec": {
      "name": "python3",
      "display_name": "Python 3"
    },
    "language_info": {
      "name": "python"
    }
  },
  "cells": [
    {
      "cell_type": "markdown",
      "metadata": {
        "id": "view-in-github",
        "colab_type": "text"
      },
      "source": [
        "<a href=\"https://colab.research.google.com/github/Viniciusfersan89/Analise_Dados/blob/master/Indicegeraldereclama%C3%A7%C3%B5esANS.ipynb\" target=\"_parent\"><img src=\"https://colab.research.google.com/assets/colab-badge.svg\" alt=\"Open In Colab\"/></a>"
      ]
    },
    {
      "cell_type": "markdown",
      "metadata": {
        "id": "j7eZhgTg_DpW"
      },
      "source": [
        "Analisando o indice geral de reclamações ANS - 08072021\n"
      ]
    },
    {
      "cell_type": "code",
      "metadata": {
        "id": "jsX65XXL_PBN"
      },
      "source": [
        "import pandas as pd\n",
        "import matplotlib as pyplot\n",
        "import matplotlib.pyplot"
      ],
      "execution_count": 1,
      "outputs": []
    },
    {
      "cell_type": "code",
      "metadata": {
        "id": "uAeF41dQ_kmB"
      },
      "source": [
        "df = pd.read_csv('Indice_geral_Reclamações_08072021.csv',encoding='latin-1', sep=',')"
      ],
      "execution_count": 2,
      "outputs": []
    },
    {
      "cell_type": "code",
      "metadata": {
        "colab": {
          "base_uri": "https://localhost:8080/",
          "height": 479
        },
        "id": "ueG8hIaOOcaA",
        "outputId": "48693d0c-d1d1-445f-9b1b-2a504a630926"
      },
      "source": [
        "df.head(5)"
      ],
      "execution_count": 3,
      "outputs": [
        {
          "output_type": "execute_result",
          "data": {
            "text/html": [
              "<div>\n",
              "<style scoped>\n",
              "    .dataframe tbody tr th:only-of-type {\n",
              "        vertical-align: middle;\n",
              "    }\n",
              "\n",
              "    .dataframe tbody tr th {\n",
              "        vertical-align: top;\n",
              "    }\n",
              "\n",
              "    .dataframe thead th {\n",
              "        text-align: right;\n",
              "    }\n",
              "</style>\n",
              "<table border=\"1\" class=\"dataframe\">\n",
              "  <thead>\n",
              "    <tr style=\"text-align: right;\">\n",
              "      <th></th>\n",
              "      <th>CD_OPERADORA</th>\n",
              "      <th>Razao_Social</th>\n",
              "      <th>Cobertura</th>\n",
              "      <th>Porte</th>\n",
              "      <th>Classificacao_ultimo_ms</th>\n",
              "      <th>Classificaï¿½ï¿½o no Mï¿½s Anterior</th>\n",
              "      <th>Ago/21</th>\n",
              "      <th>Jul/21</th>\n",
              "      <th>Jun/21</th>\n",
              "      <th>Mai/21</th>\n",
              "      <th>Abr/21</th>\n",
              "      <th>Mar/21</th>\n",
              "      <th>Fev/21</th>\n",
              "      <th>Jan/21</th>\n",
              "      <th>Dez/20</th>\n",
              "      <th>Nov/20</th>\n",
              "      <th>Out/20</th>\n",
              "      <th>Set/20</th>\n",
              "      <th>Competï¿½ncia</th>\n",
              "      <th>Data de atualizaï¿½ï¿½o</th>\n",
              "    </tr>\n",
              "  </thead>\n",
              "  <tbody>\n",
              "    <tr>\n",
              "      <th>0</th>\n",
              "      <td>418374</td>\n",
              "      <td>CAIXA DE ASSISTï¿½NCIA DO SETOR DE ENERGIA -E...</td>\n",
              "      <td>Mï¿½dico Hospitalar</td>\n",
              "      <td>Pequeno</td>\n",
              "      <td>49</td>\n",
              "      <td>50.0</td>\n",
              "      <td>5,55</td>\n",
              "      <td>8,27</td>\n",
              "      <td>7,66</td>\n",
              "      <td>4,27</td>\n",
              "      <td>3,52</td>\n",
              "      <td>2,38</td>\n",
              "      <td>2,71</td>\n",
              "      <td>0,9</td>\n",
              "      <td>0,9</td>\n",
              "      <td>2,25</td>\n",
              "      <td>2,7</td>\n",
              "      <td>4,95</td>\n",
              "      <td>202108</td>\n",
              "      <td>17/09/2021 13:37:01</td>\n",
              "    </tr>\n",
              "    <tr>\n",
              "      <th>1</th>\n",
              "      <td>314668</td>\n",
              "      <td>ABERTTA SAï¿½DE - ASSOCIAï¿½ï¿½O BENEFICENTE D...</td>\n",
              "      <td>Mï¿½dico Hospitalar</td>\n",
              "      <td>Mï¿½dio</td>\n",
              "      <td>167</td>\n",
              "      <td>204.0</td>\n",
              "      <td>0,62</td>\n",
              "      <td>0,42</td>\n",
              "      <td>0,21</td>\n",
              "      <td>0,21</td>\n",
              "      <td>0,21</td>\n",
              "      <td>0,42</td>\n",
              "      <td>0,21</td>\n",
              "      <td>0,21</td>\n",
              "      <td>0</td>\n",
              "      <td>0</td>\n",
              "      <td>0</td>\n",
              "      <td>0</td>\n",
              "      <td>202108</td>\n",
              "      <td>17/09/2021 13:37:01</td>\n",
              "    </tr>\n",
              "    <tr>\n",
              "      <th>2</th>\n",
              "      <td>335657</td>\n",
              "      <td>ADVANCE PLANOS DE SAï¿½DE LTDA</td>\n",
              "      <td>Mï¿½dico Hospitalar</td>\n",
              "      <td>Pequeno</td>\n",
              "      <td>26</td>\n",
              "      <td>31.0</td>\n",
              "      <td>12,02</td>\n",
              "      <td>15,87</td>\n",
              "      <td>11,82</td>\n",
              "      <td>7,82</td>\n",
              "      <td>3,89</td>\n",
              "      <td>3,86</td>\n",
              "      <td>7,67</td>\n",
              "      <td>11,43</td>\n",
              "      <td>11,37</td>\n",
              "      <td>7,54</td>\n",
              "      <td>14,99</td>\n",
              "      <td>22,35</td>\n",
              "      <td>202108</td>\n",
              "      <td>17/09/2021 13:37:01</td>\n",
              "    </tr>\n",
              "    <tr>\n",
              "      <th>3</th>\n",
              "      <td>413283</td>\n",
              "      <td>AESP ODONTO ASSISTï¿½NCIA ODONTOLï¿½GICA S/S L...</td>\n",
              "      <td>Odontolï¿½gica</td>\n",
              "      <td>Mï¿½dio</td>\n",
              "      <td>12</td>\n",
              "      <td>7.0</td>\n",
              "      <td>0,14</td>\n",
              "      <td>0,29</td>\n",
              "      <td>0,3</td>\n",
              "      <td>0,15</td>\n",
              "      <td>0</td>\n",
              "      <td>0</td>\n",
              "      <td>0</td>\n",
              "      <td>0</td>\n",
              "      <td>0</td>\n",
              "      <td>0</td>\n",
              "      <td>0,19</td>\n",
              "      <td>0,39</td>\n",
              "      <td>202108</td>\n",
              "      <td>17/09/2021 13:37:01</td>\n",
              "    </tr>\n",
              "    <tr>\n",
              "      <th>4</th>\n",
              "      <td>368920</td>\n",
              "      <td>AGROS - INSTITUTO UFV DE SEGURIDADE SOCIAL</td>\n",
              "      <td>Mï¿½dico Hospitalar</td>\n",
              "      <td>Pequeno</td>\n",
              "      <td>153</td>\n",
              "      <td>116.0</td>\n",
              "      <td>0,66</td>\n",
              "      <td>1,96</td>\n",
              "      <td>1,96</td>\n",
              "      <td>2,61</td>\n",
              "      <td>3,25</td>\n",
              "      <td>2,6</td>\n",
              "      <td>1,94</td>\n",
              "      <td>0</td>\n",
              "      <td>0</td>\n",
              "      <td>0</td>\n",
              "      <td>0</td>\n",
              "      <td>0</td>\n",
              "      <td>202108</td>\n",
              "      <td>17/09/2021 13:37:01</td>\n",
              "    </tr>\n",
              "  </tbody>\n",
              "</table>\n",
              "</div>"
            ],
            "text/plain": [
              "   CD_OPERADORA  ... Data de atualizaï¿½ï¿½o\n",
              "0        418374  ...     17/09/2021 13:37:01\n",
              "1        314668  ...     17/09/2021 13:37:01\n",
              "2        335657  ...     17/09/2021 13:37:01\n",
              "3        413283  ...     17/09/2021 13:37:01\n",
              "4        368920  ...     17/09/2021 13:37:01\n",
              "\n",
              "[5 rows x 20 columns]"
            ]
          },
          "metadata": {},
          "execution_count": 3
        }
      ]
    },
    {
      "cell_type": "code",
      "metadata": {
        "colab": {
          "base_uri": "https://localhost:8080/"
        },
        "id": "Zp1v7KP2PVvO",
        "outputId": "ee3ec049-cdea-4e3a-b554-0aad73f02b95"
      },
      "source": [
        "df.head"
      ],
      "execution_count": 4,
      "outputs": [
        {
          "output_type": "execute_result",
          "data": {
            "text/plain": [
              "<bound method NDFrame.head of      CD_OPERADORA  ... Data de atualizaï¿½ï¿½o\n",
              "0          418374  ...     17/09/2021 13:37:01\n",
              "1          314668  ...     17/09/2021 13:37:01\n",
              "2          335657  ...     17/09/2021 13:37:01\n",
              "3          413283  ...     17/09/2021 13:37:01\n",
              "4          368920  ...     17/09/2021 13:37:01\n",
              "..            ...  ...                     ...\n",
              "920        421049  ...     17/09/2021 13:37:01\n",
              "921        351628  ...     17/09/2021 13:37:01\n",
              "922        422380  ...     17/09/2021 13:37:01\n",
              "923        419354  ...     17/09/2021 13:37:01\n",
              "924        421421  ...     17/09/2021 13:37:01\n",
              "\n",
              "[925 rows x 20 columns]>"
            ]
          },
          "metadata": {},
          "execution_count": 4
        }
      ]
    },
    {
      "cell_type": "code",
      "metadata": {
        "colab": {
          "base_uri": "https://localhost:8080/"
        },
        "id": "0rdb8-_DQez8",
        "outputId": "7ca92779-ff43-4cbb-cc5d-4dc1145d46df"
      },
      "source": [
        "df.median()"
      ],
      "execution_count": 5,
      "outputs": [
        {
          "output_type": "execute_result",
          "data": {
            "text/plain": [
              "CD_OPERADORA                           357669.0\n",
              "Classificacao_ultimo_ms                    76.0\n",
              "Classificaï¿½ï¿½o no Mï¿½s Anterior        75.5\n",
              "Competï¿½ncia                          202108.0\n",
              "dtype: float64"
            ]
          },
          "metadata": {},
          "execution_count": 5
        }
      ]
    },
    {
      "cell_type": "code",
      "metadata": {
        "colab": {
          "base_uri": "https://localhost:8080/"
        },
        "id": "45JE49pdYjUj",
        "outputId": "74cc5204-5706-4255-dcfc-299e1a257c25"
      },
      "source": [
        "df.index"
      ],
      "execution_count": 6,
      "outputs": [
        {
          "output_type": "execute_result",
          "data": {
            "text/plain": [
              "RangeIndex(start=0, stop=925, step=1)"
            ]
          },
          "metadata": {},
          "execution_count": 6
        }
      ]
    },
    {
      "cell_type": "code",
      "metadata": {
        "colab": {
          "base_uri": "https://localhost:8080/",
          "height": 827
        },
        "id": "wQnbgnRTZaLr",
        "outputId": "2dd6e293-afed-4ab0-c7a5-b414f0ad299b"
      },
      "source": [
        "df.set_index('Cobertura')"
      ],
      "execution_count": 7,
      "outputs": [
        {
          "output_type": "execute_result",
          "data": {
            "text/html": [
              "<div>\n",
              "<style scoped>\n",
              "    .dataframe tbody tr th:only-of-type {\n",
              "        vertical-align: middle;\n",
              "    }\n",
              "\n",
              "    .dataframe tbody tr th {\n",
              "        vertical-align: top;\n",
              "    }\n",
              "\n",
              "    .dataframe thead th {\n",
              "        text-align: right;\n",
              "    }\n",
              "</style>\n",
              "<table border=\"1\" class=\"dataframe\">\n",
              "  <thead>\n",
              "    <tr style=\"text-align: right;\">\n",
              "      <th></th>\n",
              "      <th>CD_OPERADORA</th>\n",
              "      <th>Razao_Social</th>\n",
              "      <th>Porte</th>\n",
              "      <th>Classificacao_ultimo_ms</th>\n",
              "      <th>Classificaï¿½ï¿½o no Mï¿½s Anterior</th>\n",
              "      <th>Ago/21</th>\n",
              "      <th>Jul/21</th>\n",
              "      <th>Jun/21</th>\n",
              "      <th>Mai/21</th>\n",
              "      <th>Abr/21</th>\n",
              "      <th>Mar/21</th>\n",
              "      <th>Fev/21</th>\n",
              "      <th>Jan/21</th>\n",
              "      <th>Dez/20</th>\n",
              "      <th>Nov/20</th>\n",
              "      <th>Out/20</th>\n",
              "      <th>Set/20</th>\n",
              "      <th>Competï¿½ncia</th>\n",
              "      <th>Data de atualizaï¿½ï¿½o</th>\n",
              "    </tr>\n",
              "    <tr>\n",
              "      <th>Cobertura</th>\n",
              "      <th></th>\n",
              "      <th></th>\n",
              "      <th></th>\n",
              "      <th></th>\n",
              "      <th></th>\n",
              "      <th></th>\n",
              "      <th></th>\n",
              "      <th></th>\n",
              "      <th></th>\n",
              "      <th></th>\n",
              "      <th></th>\n",
              "      <th></th>\n",
              "      <th></th>\n",
              "      <th></th>\n",
              "      <th></th>\n",
              "      <th></th>\n",
              "      <th></th>\n",
              "      <th></th>\n",
              "      <th></th>\n",
              "    </tr>\n",
              "  </thead>\n",
              "  <tbody>\n",
              "    <tr>\n",
              "      <th>Mï¿½dico Hospitalar</th>\n",
              "      <td>418374</td>\n",
              "      <td>CAIXA DE ASSISTï¿½NCIA DO SETOR DE ENERGIA -E...</td>\n",
              "      <td>Pequeno</td>\n",
              "      <td>49</td>\n",
              "      <td>50.0</td>\n",
              "      <td>5,55</td>\n",
              "      <td>8,27</td>\n",
              "      <td>7,66</td>\n",
              "      <td>4,27</td>\n",
              "      <td>3,52</td>\n",
              "      <td>2,38</td>\n",
              "      <td>2,71</td>\n",
              "      <td>0,9</td>\n",
              "      <td>0,9</td>\n",
              "      <td>2,25</td>\n",
              "      <td>2,7</td>\n",
              "      <td>4,95</td>\n",
              "      <td>202108</td>\n",
              "      <td>17/09/2021 13:37:01</td>\n",
              "    </tr>\n",
              "    <tr>\n",
              "      <th>Mï¿½dico Hospitalar</th>\n",
              "      <td>314668</td>\n",
              "      <td>ABERTTA SAï¿½DE - ASSOCIAï¿½ï¿½O BENEFICENTE D...</td>\n",
              "      <td>Mï¿½dio</td>\n",
              "      <td>167</td>\n",
              "      <td>204.0</td>\n",
              "      <td>0,62</td>\n",
              "      <td>0,42</td>\n",
              "      <td>0,21</td>\n",
              "      <td>0,21</td>\n",
              "      <td>0,21</td>\n",
              "      <td>0,42</td>\n",
              "      <td>0,21</td>\n",
              "      <td>0,21</td>\n",
              "      <td>0</td>\n",
              "      <td>0</td>\n",
              "      <td>0</td>\n",
              "      <td>0</td>\n",
              "      <td>202108</td>\n",
              "      <td>17/09/2021 13:37:01</td>\n",
              "    </tr>\n",
              "    <tr>\n",
              "      <th>Mï¿½dico Hospitalar</th>\n",
              "      <td>335657</td>\n",
              "      <td>ADVANCE PLANOS DE SAï¿½DE LTDA</td>\n",
              "      <td>Pequeno</td>\n",
              "      <td>26</td>\n",
              "      <td>31.0</td>\n",
              "      <td>12,02</td>\n",
              "      <td>15,87</td>\n",
              "      <td>11,82</td>\n",
              "      <td>7,82</td>\n",
              "      <td>3,89</td>\n",
              "      <td>3,86</td>\n",
              "      <td>7,67</td>\n",
              "      <td>11,43</td>\n",
              "      <td>11,37</td>\n",
              "      <td>7,54</td>\n",
              "      <td>14,99</td>\n",
              "      <td>22,35</td>\n",
              "      <td>202108</td>\n",
              "      <td>17/09/2021 13:37:01</td>\n",
              "    </tr>\n",
              "    <tr>\n",
              "      <th>Odontolï¿½gica</th>\n",
              "      <td>413283</td>\n",
              "      <td>AESP ODONTO ASSISTï¿½NCIA ODONTOLï¿½GICA S/S L...</td>\n",
              "      <td>Mï¿½dio</td>\n",
              "      <td>12</td>\n",
              "      <td>7.0</td>\n",
              "      <td>0,14</td>\n",
              "      <td>0,29</td>\n",
              "      <td>0,3</td>\n",
              "      <td>0,15</td>\n",
              "      <td>0</td>\n",
              "      <td>0</td>\n",
              "      <td>0</td>\n",
              "      <td>0</td>\n",
              "      <td>0</td>\n",
              "      <td>0</td>\n",
              "      <td>0,19</td>\n",
              "      <td>0,39</td>\n",
              "      <td>202108</td>\n",
              "      <td>17/09/2021 13:37:01</td>\n",
              "    </tr>\n",
              "    <tr>\n",
              "      <th>Mï¿½dico Hospitalar</th>\n",
              "      <td>368920</td>\n",
              "      <td>AGROS - INSTITUTO UFV DE SEGURIDADE SOCIAL</td>\n",
              "      <td>Pequeno</td>\n",
              "      <td>153</td>\n",
              "      <td>116.0</td>\n",
              "      <td>0,66</td>\n",
              "      <td>1,96</td>\n",
              "      <td>1,96</td>\n",
              "      <td>2,61</td>\n",
              "      <td>3,25</td>\n",
              "      <td>2,6</td>\n",
              "      <td>1,94</td>\n",
              "      <td>0</td>\n",
              "      <td>0</td>\n",
              "      <td>0</td>\n",
              "      <td>0</td>\n",
              "      <td>0</td>\n",
              "      <td>202108</td>\n",
              "      <td>17/09/2021 13:37:01</td>\n",
              "    </tr>\n",
              "    <tr>\n",
              "      <th>...</th>\n",
              "      <td>...</td>\n",
              "      <td>...</td>\n",
              "      <td>...</td>\n",
              "      <td>...</td>\n",
              "      <td>...</td>\n",
              "      <td>...</td>\n",
              "      <td>...</td>\n",
              "      <td>...</td>\n",
              "      <td>...</td>\n",
              "      <td>...</td>\n",
              "      <td>...</td>\n",
              "      <td>...</td>\n",
              "      <td>...</td>\n",
              "      <td>...</td>\n",
              "      <td>...</td>\n",
              "      <td>...</td>\n",
              "      <td>...</td>\n",
              "      <td>...</td>\n",
              "      <td>...</td>\n",
              "    </tr>\n",
              "    <tr>\n",
              "      <th>Odontolï¿½gica</th>\n",
              "      <td>421049</td>\n",
              "      <td>W. DENTAL PLANOS ODONTOLï¿½GICOS S.A</td>\n",
              "      <td>Pequeno</td>\n",
              "      <td>2</td>\n",
              "      <td>1.0</td>\n",
              "      <td>3,94</td>\n",
              "      <td>5,88</td>\n",
              "      <td>2,03</td>\n",
              "      <td>2,09</td>\n",
              "      <td>2,14</td>\n",
              "      <td>2,2</td>\n",
              "      <td>6,87</td>\n",
              "      <td>7,25</td>\n",
              "      <td>10,55</td>\n",
              "      <td>6,11</td>\n",
              "      <td>7,27</td>\n",
              "      <td>9,04</td>\n",
              "      <td>202108</td>\n",
              "      <td>17/09/2021 13:37:01</td>\n",
              "    </tr>\n",
              "    <tr>\n",
              "      <th>Odontolï¿½gica</th>\n",
              "      <td>351628</td>\n",
              "      <td>WM ADMINISTRAï¿½ï¿½O DE PLANOS ODONTOLï¿½GICOS...</td>\n",
              "      <td>Pequeno</td>\n",
              "      <td>7</td>\n",
              "      <td>8.0</td>\n",
              "      <td>0</td>\n",
              "      <td>0</td>\n",
              "      <td>0</td>\n",
              "      <td>0</td>\n",
              "      <td>0</td>\n",
              "      <td>0</td>\n",
              "      <td>0</td>\n",
              "      <td>0</td>\n",
              "      <td>0</td>\n",
              "      <td>0</td>\n",
              "      <td>0</td>\n",
              "      <td>0</td>\n",
              "      <td>202108</td>\n",
              "      <td>17/09/2021 13:37:01</td>\n",
              "    </tr>\n",
              "    <tr>\n",
              "      <th>Mï¿½dico Hospitalar</th>\n",
              "      <td>422380</td>\n",
              "      <td>YOU ASSISTï¿½NCIA Mï¿½DICA LTDA.</td>\n",
              "      <td>Pequeno</td>\n",
              "      <td>15</td>\n",
              "      <td>16.0</td>\n",
              "      <td>24,84</td>\n",
              "      <td>33,05</td>\n",
              "      <td>20,89</td>\n",
              "      <td>0</td>\n",
              "      <td>0</td>\n",
              "      <td>0</td>\n",
              "      <td>26,04</td>\n",
              "      <td>42,13</td>\n",
              "      <td>87,72</td>\n",
              "      <td>NaN</td>\n",
              "      <td>NaN</td>\n",
              "      <td>NaN</td>\n",
              "      <td>202108</td>\n",
              "      <td>17/09/2021 13:37:01</td>\n",
              "    </tr>\n",
              "    <tr>\n",
              "      <th>Odontolï¿½gica</th>\n",
              "      <td>419354</td>\n",
              "      <td>ZURICH SANTANDER BRASIL ODONTO LTDA.</td>\n",
              "      <td>Mï¿½dio</td>\n",
              "      <td>2</td>\n",
              "      <td>3.0</td>\n",
              "      <td>0,72</td>\n",
              "      <td>0,49</td>\n",
              "      <td>0,49</td>\n",
              "      <td>0,76</td>\n",
              "      <td>0,76</td>\n",
              "      <td>0,75</td>\n",
              "      <td>0,49</td>\n",
              "      <td>0,72</td>\n",
              "      <td>0,71</td>\n",
              "      <td>0,46</td>\n",
              "      <td>0,69</td>\n",
              "      <td>0,92</td>\n",
              "      <td>202108</td>\n",
              "      <td>17/09/2021 13:37:01</td>\n",
              "    </tr>\n",
              "    <tr>\n",
              "      <th>Mï¿½dico Hospitalar</th>\n",
              "      <td>421421</td>\n",
              "      <td>2CARE OPERADORA DE SAï¿½DE LTDA.</td>\n",
              "      <td>Mï¿½dio</td>\n",
              "      <td>108</td>\n",
              "      <td>87.0</td>\n",
              "      <td>1,44</td>\n",
              "      <td>2,53</td>\n",
              "      <td>2,16</td>\n",
              "      <td>3,24</td>\n",
              "      <td>1,79</td>\n",
              "      <td>1,79</td>\n",
              "      <td>1,42</td>\n",
              "      <td>1,78</td>\n",
              "      <td>2,12</td>\n",
              "      <td>1,04</td>\n",
              "      <td>0</td>\n",
              "      <td>0</td>\n",
              "      <td>202108</td>\n",
              "      <td>17/09/2021 13:37:01</td>\n",
              "    </tr>\n",
              "  </tbody>\n",
              "</table>\n",
              "<p>925 rows × 19 columns</p>\n",
              "</div>"
            ],
            "text/plain": [
              "                     CD_OPERADORA  ... Data de atualizaï¿½ï¿½o\n",
              "Cobertura                          ...                        \n",
              "Mï¿½dico Hospitalar        418374  ...     17/09/2021 13:37:01\n",
              "Mï¿½dico Hospitalar        314668  ...     17/09/2021 13:37:01\n",
              "Mï¿½dico Hospitalar        335657  ...     17/09/2021 13:37:01\n",
              "Odontolï¿½gica             413283  ...     17/09/2021 13:37:01\n",
              "Mï¿½dico Hospitalar        368920  ...     17/09/2021 13:37:01\n",
              "...                           ...  ...                     ...\n",
              "Odontolï¿½gica             421049  ...     17/09/2021 13:37:01\n",
              "Odontolï¿½gica             351628  ...     17/09/2021 13:37:01\n",
              "Mï¿½dico Hospitalar        422380  ...     17/09/2021 13:37:01\n",
              "Odontolï¿½gica             419354  ...     17/09/2021 13:37:01\n",
              "Mï¿½dico Hospitalar        421421  ...     17/09/2021 13:37:01\n",
              "\n",
              "[925 rows x 19 columns]"
            ]
          },
          "metadata": {},
          "execution_count": 7
        }
      ]
    },
    {
      "cell_type": "code",
      "metadata": {
        "id": "P1xoNgaYbDiR"
      },
      "source": [
        "dfmedhosp = df[df['Cobertura'] == 'Mï¿½dico Hospitalar']"
      ],
      "execution_count": 8,
      "outputs": []
    },
    {
      "cell_type": "code",
      "metadata": {
        "id": "TrGC3ZXkb0JN"
      },
      "source": [
        "dfmedhosp"
      ],
      "execution_count": null,
      "outputs": []
    },
    {
      "cell_type": "code",
      "metadata": {
        "id": "jYC170T_hReh"
      },
      "source": [
        "  dfsantahelena = dfmedhosp[dfmedhosp.Razao_Social == 'SANTA HELENA ASSIST�NCIA M�DICA S/A.']"
      ],
      "execution_count": 88,
      "outputs": []
    },
    {
      "cell_type": "code",
      "metadata": {
        "id": "J6ojznlmiA8S",
        "outputId": "0d33c7c9-608e-49e6-f135-3e3bcf744ad8",
        "colab": {
          "base_uri": "https://localhost:8080/",
          "height": 86
        }
      },
      "source": [
        "dfsantahelena.head()"
      ],
      "execution_count": 90,
      "outputs": [
        {
          "output_type": "execute_result",
          "data": {
            "text/html": [
              "<div>\n",
              "<style scoped>\n",
              "    .dataframe tbody tr th:only-of-type {\n",
              "        vertical-align: middle;\n",
              "    }\n",
              "\n",
              "    .dataframe tbody tr th {\n",
              "        vertical-align: top;\n",
              "    }\n",
              "\n",
              "    .dataframe thead th {\n",
              "        text-align: right;\n",
              "    }\n",
              "</style>\n",
              "<table border=\"1\" class=\"dataframe\">\n",
              "  <thead>\n",
              "    <tr style=\"text-align: right;\">\n",
              "      <th></th>\n",
              "      <th>CD_OPERADORA</th>\n",
              "      <th>Razao_Social</th>\n",
              "      <th>Cobertura</th>\n",
              "      <th>Porte</th>\n",
              "      <th>Classificacao_ultimo_ms</th>\n",
              "      <th>Classificaï¿½ï¿½o no Mï¿½s Anterior</th>\n",
              "      <th>Ago/21</th>\n",
              "      <th>Jul/21</th>\n",
              "      <th>Jun/21</th>\n",
              "      <th>Mai/21</th>\n",
              "      <th>Abr/21</th>\n",
              "      <th>Mar/21</th>\n",
              "      <th>Fev/21</th>\n",
              "      <th>Jan/21</th>\n",
              "      <th>Dez/20</th>\n",
              "      <th>Nov/20</th>\n",
              "      <th>Out/20</th>\n",
              "      <th>Set/20</th>\n",
              "      <th>Competï¿½ncia</th>\n",
              "      <th>Data de atualizaï¿½ï¿½o</th>\n",
              "    </tr>\n",
              "  </thead>\n",
              "  <tbody>\n",
              "  </tbody>\n",
              "</table>\n",
              "</div>"
            ],
            "text/plain": [
              "Empty DataFrame\n",
              "Columns: [CD_OPERADORA, Razao_Social, Cobertura, Porte, Classificacao_ultimo_ms, Classificaï¿½ï¿½o no Mï¿½s Anterior, Ago/21, Jul/21, Jun/21, Mai/21, Abr/21, Mar/21, Fev/21, Jan/21, Dez/20, Nov/20, Out/20, Set/20, Competï¿½ncia, Data de atualizaï¿½ï¿½o]\n",
              "Index: []"
            ]
          },
          "metadata": {},
          "execution_count": 90
        }
      ]
    },
    {
      "cell_type": "code",
      "metadata": {
        "id": "QcmjxSPAkESt"
      },
      "source": [
        "letras = (\"A\",\"B\",\"C\",\"D\",\"E\",\"F\",\"G\",\"H\",\"J\",\"I\")\n",
        "numeros = (12.30,33,45,5,3,32,68,3,2,57)"
      ],
      "execution_count": 10,
      "outputs": []
    },
    {
      "cell_type": "code",
      "metadata": {
        "colab": {
          "base_uri": "https://localhost:8080/",
          "height": 282
        },
        "id": "J_5fOD2XluIK",
        "outputId": "b218e3a7-6169-46d4-9597-bdf20be2a126"
      },
      "source": [
        "matplotlib.pyplot.plot(letras, numeros)"
      ],
      "execution_count": 11,
      "outputs": [
        {
          "output_type": "execute_result",
          "data": {
            "text/plain": [
              "[<matplotlib.lines.Line2D at 0x7fb63e2fb3d0>]"
            ]
          },
          "metadata": {},
          "execution_count": 11
        },
        {
          "output_type": "display_data",
          "data": {
            "image/png": "[encoded data removed]",
            "text/plain": [
              "<Figure size 432x288 with 1 Axes>"
            ]
          },
          "metadata": {
            "needs_background": "light"
          }
        }
      ]
    },
    {
      "cell_type": "code",
      "metadata": {
        "colab": {
          "base_uri": "https://localhost:8080/",
          "height": 286
        },
        "id": "XjfAgCWKoZtt",
        "outputId": "eeea27f8-d3f8-476b-f1bc-217f36faa550"
      },
      "source": [
        "matplotlib.pyplot.plot(letras,numeros)\n",
        "matplotlib.pyplot.ylim(30,100)\n",
        "##matplotlib.pyplot.show()"
      ],
      "execution_count": 12,
      "outputs": [
        {
          "output_type": "execute_result",
          "data": {
            "text/plain": [
              "(30.0, 100.0)"
            ]
          },
          "metadata": {},
          "execution_count": 12
        },
        {
          "output_type": "display_data",
          "data": {
            "image/png": "[encoded data removed]",
            "text/plain": [
              "<Figure size 432x288 with 1 Axes>"
            ]
          },
          "metadata": {
            "needs_background": "light"
          }
        }
      ]
    },
    {
      "cell_type": "code",
      "metadata": {
        "colab": {
          "base_uri": "https://localhost:8080/",
          "height": 297
        },
        "id": "x3Lp4zmapls5",
        "outputId": "023ac202-21fb-49f4-df90-f4bb6962fef2"
      },
      "source": [
        "dfmedhosp.describe()"
      ],
      "execution_count": 13,
      "outputs": [
        {
          "output_type": "execute_result",
          "data": {
            "text/html": [
              "<div>\n",
              "<style scoped>\n",
              "    .dataframe tbody tr th:only-of-type {\n",
              "        vertical-align: middle;\n",
              "    }\n",
              "\n",
              "    .dataframe tbody tr th {\n",
              "        vertical-align: top;\n",
              "    }\n",
              "\n",
              "    .dataframe thead th {\n",
              "        text-align: right;\n",
              "    }\n",
              "</style>\n",
              "<table border=\"1\" class=\"dataframe\">\n",
              "  <thead>\n",
              "    <tr style=\"text-align: right;\">\n",
              "      <th></th>\n",
              "      <th>CD_OPERADORA</th>\n",
              "      <th>Classificacao_ultimo_ms</th>\n",
              "      <th>Classificaï¿½ï¿½o no Mï¿½s Anterior</th>\n",
              "      <th>Competï¿½ncia</th>\n",
              "    </tr>\n",
              "  </thead>\n",
              "  <tbody>\n",
              "    <tr>\n",
              "      <th>count</th>\n",
              "      <td>688.000000</td>\n",
              "      <td>688.000000</td>\n",
              "      <td>687.000000</td>\n",
              "      <td>688.0</td>\n",
              "    </tr>\n",
              "    <tr>\n",
              "      <th>mean</th>\n",
              "      <td>358714.587209</td>\n",
              "      <td>113.851744</td>\n",
              "      <td>120.320233</td>\n",
              "      <td>202108.0</td>\n",
              "    </tr>\n",
              "    <tr>\n",
              "      <th>std</th>\n",
              "      <td>54251.271607</td>\n",
              "      <td>60.959706</td>\n",
              "      <td>67.109692</td>\n",
              "      <td>0.0</td>\n",
              "    </tr>\n",
              "    <tr>\n",
              "      <th>min</th>\n",
              "      <td>477.000000</td>\n",
              "      <td>1.000000</td>\n",
              "      <td>1.000000</td>\n",
              "      <td>202108.0</td>\n",
              "    </tr>\n",
              "    <tr>\n",
              "      <th>25%</th>\n",
              "      <td>325197.500000</td>\n",
              "      <td>58.000000</td>\n",
              "      <td>58.000000</td>\n",
              "      <td>202108.0</td>\n",
              "    </tr>\n",
              "    <tr>\n",
              "      <th>50%</th>\n",
              "      <td>353043.500000</td>\n",
              "      <td>131.500000</td>\n",
              "      <td>131.000000</td>\n",
              "      <td>202108.0</td>\n",
              "    </tr>\n",
              "    <tr>\n",
              "      <th>75%</th>\n",
              "      <td>410371.000000</td>\n",
              "      <td>164.000000</td>\n",
              "      <td>187.000000</td>\n",
              "      <td>202108.0</td>\n",
              "    </tr>\n",
              "    <tr>\n",
              "      <th>max</th>\n",
              "      <td>422754.000000</td>\n",
              "      <td>214.000000</td>\n",
              "      <td>219.000000</td>\n",
              "      <td>202108.0</td>\n",
              "    </tr>\n",
              "  </tbody>\n",
              "</table>\n",
              "</div>"
            ],
            "text/plain": [
              "        CD_OPERADORA  ...  Competï¿½ncia\n",
              "count     688.000000  ...          688.0\n",
              "mean   358714.587209  ...       202108.0\n",
              "std     54251.271607  ...            0.0\n",
              "min       477.000000  ...       202108.0\n",
              "25%    325197.500000  ...       202108.0\n",
              "50%    353043.500000  ...       202108.0\n",
              "75%    410371.000000  ...       202108.0\n",
              "max    422754.000000  ...       202108.0\n",
              "\n",
              "[8 rows x 4 columns]"
            ]
          },
          "metadata": {},
          "execution_count": 13
        }
      ]
    },
    {
      "cell_type": "code",
      "metadata": {
        "id": "lT3po4TbrIgV"
      },
      "source": [
        "razaosocial = dfmedhosp[dfmedhosp=='Cobertura']"
      ],
      "execution_count": 41,
      "outputs": []
    },
    {
      "cell_type": "code",
      "metadata": {
        "id": "BRG7CF9LW8Ki"
      },
      "source": [
        "dfclassificacao= dfmedhosp[dfmedhosp.Classificacao_ultimo_ms >= 165]"
      ],
      "execution_count": 56,
      "outputs": []
    },
    {
      "cell_type": "code",
      "metadata": {
        "id": "p5Xl83BRXaK5"
      },
      "source": [
        "dfclassificacao"
      ],
      "execution_count": null,
      "outputs": []
    },
    {
      "cell_type": "code",
      "metadata": {
        "id": "tLcG72yOUla2"
      },
      "source": [
        "razao_social"
      ],
      "execution_count": null,
      "outputs": []
    },
    {
      "cell_type": "code",
      "metadata": {
        "id": "SHTca867U7zj"
      },
      "source": [
        "clas_ult_ms =list(dfclassificacao.Classificacao_ultimo_ms.values)"
      ],
      "execution_count": 58,
      "outputs": []
    },
    {
      "cell_type": "code",
      "metadata": {
        "id": "z011SEibYLu9"
      },
      "source": [
        "list(dfclassificacao.Razao_Social.values)"
      ],
      "execution_count": null,
      "outputs": []
    },
    {
      "cell_type": "code",
      "metadata": {
        "id": "anP6BMvCYCw3"
      },
      "source": [
        "razao_social = list(dfclassificacao.Razao_Social.values)"
      ],
      "execution_count": 67,
      "outputs": []
    },
    {
      "cell_type": "code",
      "metadata": {
        "id": "zfHbdKjwVi-j",
        "outputId": "e148ab0c-276b-45d3-fd84-2213b65b1ab7",
        "colab": {
          "base_uri": "https://localhost:8080/"
        }
      },
      "source": [
        "Clas_ult_ms"
      ],
      "execution_count": 91,
      "outputs": [
        {
          "output_type": "execute_result",
          "data": {
            "text/plain": [
              "[167,\n",
              " 214,\n",
              " 213,\n",
              " 190,\n",
              " 205,\n",
              " 214,\n",
              " 214,\n",
              " 170,\n",
              " 186,\n",
              " 173,\n",
              " 178,\n",
              " 180,\n",
              " 189,\n",
              " 193,\n",
              " 214,\n",
              " 214,\n",
              " 194,\n",
              " 209,\n",
              " 196,\n",
              " 191,\n",
              " 203,\n",
              " 214,\n",
              " 207,\n",
              " 202,\n",
              " 175,\n",
              " 192,\n",
              " 214,\n",
              " 214,\n",
              " 214,\n",
              " 214,\n",
              " 214,\n",
              " 200,\n",
              " 198,\n",
              " 183,\n",
              " 184,\n",
              " 176,\n",
              " 195,\n",
              " 214,\n",
              " 211,\n",
              " 185,\n",
              " 182,\n",
              " 169,\n",
              " 179,\n",
              " 208,\n",
              " 171,\n",
              " 214,\n",
              " 214,\n",
              " 214,\n",
              " 168,\n",
              " 204,\n",
              " 214,\n",
              " 201,\n",
              " 166,\n",
              " 214,\n",
              " 177,\n",
              " 181,\n",
              " 172,\n",
              " 214,\n",
              " 187,\n",
              " 214,\n",
              " 188,\n",
              " 210,\n",
              " 214,\n",
              " 199,\n",
              " 165,\n",
              " 206,\n",
              " 212,\n",
              " 214,\n",
              " 197,\n",
              " 174]"
            ]
          },
          "metadata": {},
          "execution_count": 91
        }
      ]
    },
    {
      "cell_type": "code",
      "metadata": {
        "id": "f1M3Hboffzul",
        "outputId": "b99aad5f-9bb6-444d-804f-05fc2f389fab",
        "colab": {
          "base_uri": "https://localhost:8080/"
        }
      },
      "source": [
        "razao_social"
      ],
      "execution_count": 83,
      "outputs": [
        {
          "output_type": "execute_result",
          "data": {
            "text/plain": [
              "['ABERTTA SAï¿½DE - ASSOCIAï¿½ï¿½O BENEFICENTE DOS EMPREGADOS DA ARCELORMITTAL NO BRASIL',\n",
              " 'ASSOCIAï¿½ï¿½O BENEFICENTE CATï¿½LICA',\n",
              " 'ASSOCIAï¿½ï¿½O DE ASSISTï¿½NCIA ï¿½ SAï¿½DE DOS EMPREGADOS DA COPASA',\n",
              " 'ASSOCIAï¿½AO DOS FUNCIONARIOS PUBLICOS DO ESTADO DO RIO GRANDE DO SUL',\n",
              " 'ASSOCIAï¿½ï¿½O DOS SERVIDORES MUNICIPAIS, ESTADUAIS E FEDERAIS DO RIO DE JANEIRO',\n",
              " 'ASSOCIAï¿½ï¿½O FUNDO DE PROTEï¿½ï¿½O ï¿½ SAï¿½DE',\n",
              " 'ASSOCIAï¿½ï¿½O PADRE ALBINO SAï¿½DE',\n",
              " 'BENSAUDE PLANO DE ASSISTENCIA MEDICA HOSPITALAR LTDA.',\n",
              " 'CAIXA DE ASSISTï¿½NCIA  DOS EMPREGADOS DA EMPRESA  BRASILEIRA DE PESQUISA  AGROPECUï¿½RIA',\n",
              " 'CAIXA DE ASSISTï¿½NCIA DOS EMPREGADOS DO BANCO DO ESTADO DO RIO GRANDE DO SUL',\n",
              " 'CAIXA DE ASSISTï¿½NCIA SISTEMA SAï¿½DE INTEGRAL-SSI SAUDE',\n",
              " 'CAMIM - OPERADORA PLANO DE SAï¿½DE LTDA',\n",
              " 'COOPERATIVA CENTRAL UNIMED DE COOPERATIVAS DE ASSISTï¿½NCIA ï¿½ SAï¿½DE DO RIO GRANDE DO SUL LTDA.',\n",
              " 'COOPERATIVA DE TRABALHO Mï¿½DICO DE POUSO ALEGRE',\n",
              " 'EMPRESA BRASILEIRA DE TELECOMUNICAï¿½ï¿½ES S.A',\n",
              " 'FUNDAï¿½ï¿½O DE SAï¿½DE ITAIGUAPY',\n",
              " 'FUNDAï¿½ï¿½O DE SEGURIDADE SOCIAL DA ARCELORMITTAL BRASIL - FUNSSEST',\n",
              " 'FUNDAï¿½ï¿½O FIAT SAï¿½DE E BEM ESTAR',\n",
              " 'FUNDACAO LEONOR DE BARROS CAMARGO',\n",
              " 'FUNDAï¿½ï¿½O SANEPAR DE ASSISTï¿½NCIA SOCIAL',\n",
              " 'HOSPITAL MARECHAL Cï¿½NDIDO RONDON S/A',\n",
              " 'INSTITUIï¿½ï¿½O BENEFICENTE CEL MASSOT - IBCM',\n",
              " 'IRMANDADE DA SANTA CASA DE MISERICï¿½RDIA DE PIRACICABA',\n",
              " 'IRMANDADE DA SANTA CASA DE MISERICï¿½RDIA DE RIO CLARO',\n",
              " 'IRMANDADE SANTA CASA DE MISERICï¿½RDIA DE MARINGï¿½',\n",
              " 'MATï¿½O CLINICAS & AMHMA SAï¿½DE LTDA',\n",
              " 'PLANO DE SAï¿½DE DA SANTA CASA DE BRAGANï¿½A PAULISTA',\n",
              " 'SANTA CASA DE MISERICï¿½RDIA DE JUIZ DE FORA',\n",
              " 'SANTA CASA DE MISERICORDIA DE PONTA GROSSA',\n",
              " 'SAUDE PAS - MEDICINA E ODONTO',\n",
              " 'SAï¿½DE SANTA TEREZA LTDA.',\n",
              " 'SERMED-SAï¿½DE LTDA.',\n",
              " 'SERPRAM - SERVIï¿½O DE PRESTAï¿½ï¿½O DE ASSISTï¿½NCIA Mï¿½DICO-HOSPITALAR S.A.',\n",
              " 'SIM - CAIXA DE ASSISTï¿½NCIA ï¿½ SAï¿½DE',\n",
              " 'S.P.A SAUDE- SISTEMA DE PROMOï¿½ï¿½O ASSISTENCIAL',\n",
              " 'UNIMED APUCARANA COOPERATIVA DE TRABALHO Mï¿½DICO',\n",
              " 'UNIMED ARAXï¿½ COOPERATIVA DE TRABALHO Mï¿½DICO LTDA.',\n",
              " 'UNIMED BARRA DO GARï¿½AS - COOPERATIVA DE TRABALHO Mï¿½DICO',\n",
              " 'UNIMED CHAPECï¿½ - COOPERATIVA DE TRABALHO Mï¿½DICO DA REGIï¿½O OESTE CATARINENSE',\n",
              " 'UNIMED COSTA DO DESCOBRIMENTO COOPERATIVA DE TRABALHO Mï¿½DICO',\n",
              " 'UNIMED COSTA OESTE - COOPERATIVA DE TRABALHO Mï¿½DICO',\n",
              " 'UNIMED DE ASSIS COOPERATIVA DE TRABALHO Mï¿½DICO',\n",
              " 'UNIMED DE BOTUCATU COOPERATIVA DE TRABALHO Mï¿½DICO',\n",
              " 'UNIMED DE CASCAVEL COOPERATIVA DE TRABALHO Mï¿½DICO',\n",
              " 'UNIMED DE CATANDUVA - COOPERATIVA DE TRABALHO Mï¿½DICO',\n",
              " 'UNIMED DE DOURADOS COOPERATIVA DE TRABALHO Mï¿½DICO LTDA',\n",
              " 'UNIMED DE LENï¿½OIS PAULISTA - COOPERATIVA DE TRABALHO Mï¿½DICO',\n",
              " 'UNIMED DE LIMEIRA COOPERATIVA DE TRABALHO Mï¿½DICO',\n",
              " 'UNIMED DE MARILIA COOPERATIVA DE TRABALHO Mï¿½DICO',\n",
              " 'UNIMED DE RIO CLARO SP COOPERATIVA DE TRABALHO MEDICO',\n",
              " 'UNIMED DE Sï¿½O ROQUE - COOPERATIVA DE TRABALHO Mï¿½DICO',\n",
              " 'UNIMED ENCOSTA DA SERRA/RS SOCIEDADE COOPERATIVA DE SERVIï¿½OS DE SAï¿½DE LTDA.',\n",
              " 'UNIMED FRANCA - SOCIEDADE COOPERATIVA DE SERVIï¿½OS Mï¿½DICOS E HOSPITALARES',\n",
              " 'UNIMED FRONTEIRA NOROESTE/RS - COOPERATIVA DE ASSISTï¿½NCIA ï¿½ SAï¿½DE LTDA.',\n",
              " 'UNIMED ITABIRA COOPERATIVA DE TRABALHO Mï¿½DICO',\n",
              " 'UNIMED LAVRAS COOPERATIVA DE TRABALHO Mï¿½DICO',\n",
              " 'UNIMED LITORAL SUL/RS - COOPERATIVA Mï¿½DICA LTDA.',\n",
              " 'UNIMED MISSï¿½ES/RS - COOPERATIVA DE ASSISTï¿½NCIA ï¿½ SAï¿½DE LTDA.',\n",
              " 'UNIMED NORDESTE PAULISTA - FED. INTRAFEDERATIVA DAS COOP. Mï¿½DICAS',\n",
              " 'UNIMED NOROESTE/RS - SOCIEDADE COOPERATIVA DE ASSISTï¿½NCIA ï¿½ SAï¿½DE LTDA.',\n",
              " 'UNIMED PARï¿½ DE MINAS COOPERATIVA DE TRABALHO Mï¿½DICO LTDA.',\n",
              " 'UNIMED PATO BRANCO COOPERATIVA DE TRABALHO MEDICO',\n",
              " 'UNIMED PLANALTO Mï¿½DIO- COOPERATIVA DE SERVIï¿½OS Mï¿½DICOS LTDA',\n",
              " 'UNIMED REGIONAL DE CAMPO MOURï¿½O COOP TRAB MEDICO ',\n",
              " 'UNIMED REGIONAL SUL GOIAS COOP. DE TRABALHO Mï¿½DICO LTDA',\n",
              " 'UNIMED SANTA MARIA/RS - COOPERATIVA DE ASSISTï¿½NCIA ï¿½ SAï¿½DE LTDA',\n",
              " 'UNIMED Sï¿½O LOURENï¿½O COOPERATIVA DE TRABALHO Mï¿½DICO',\n",
              " 'UNIMED TRï¿½S PONTAS - COOPERATIVA DE TRABALHO Mï¿½DICO',\n",
              " 'UNIMED VALE DO CAï¿½/RS - COOPERATIVA DE ASSISTï¿½NCIA ï¿½ SAï¿½DE LTDA.',\n",
              " 'UNIMED VARGINHA COOPERATIVA DE TRABALHO Mï¿½DICO']"
            ]
          },
          "metadata": {},
          "execution_count": 83
        }
      ]
    },
    {
      "cell_type": "code",
      "metadata": {
        "id": "NHF5-yMwbuNn",
        "outputId": "1fe62b22-bccc-4198-ebe1-0b6e0ef6ce4d",
        "colab": {
          "base_uri": "https://localhost:8080/",
          "height": 282
        }
      },
      "source": [
        "matplotlib.pyplot.plot(razao_social,Clas_ult_ms)\n",
        "matplotlib.pyplot.ylim(165.5,215.5)"
      ],
      "execution_count": 82,
      "outputs": [
        {
          "output_type": "execute_result",
          "data": {
            "text/plain": [
              "(165.5, 215.5)"
            ]
          },
          "metadata": {},
          "execution_count": 82
        },
        {
          "output_type": "display_data",
          "data": {
            "image/png": "[encoded data removed]",
            "text/plain": [
              "<Figure size 432x288 with 1 Axes>"
            ]
          },
          "metadata": {
            "needs_background": "light"
          }
        }
      ]
    },
    {
      "cell_type": "code",
      "metadata": {
        "id": "76B8OuJ7cI5r"
      },
      "source": [
        "#criando uma figure, axes\n",
        "fig, ax = plt.subplots()\n",
        "#criando o gráfico de barras \n",
        "sns.barplot(x=df.index, y=df['quantidade'], ax=ax, data=df)\n",
        "#otimizar espaço da figure\n",
        "fig.tight_layout();"
      ],
      "execution_count": null,
      "outputs": []
    }
  ]
}