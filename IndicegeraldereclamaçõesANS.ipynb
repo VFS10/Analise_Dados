{
  "nbformat": 4,
  "nbformat_minor": 0,
  "metadata": {
    "colab": {
      "name": "IndicegeraldereclamaçõesANS.ipynb",
      "provenance": [],
      "include_colab_link": true
    },
    "kernelspec": {
      "name": "python3",
      "display_name": "Python 3"
    },
    "language_info": {
      "name": "python"
    }
  },
  "cells": [
    {
      "cell_type": "markdown",
      "metadata": {
        "id": "view-in-github",
        "colab_type": "text"
      },
      "source": [
        "<a href=\"https://colab.research.google.com/github/Viniciusfersan89/Analise_Dados/blob/master/Indicegeraldereclama%C3%A7%C3%B5esANS.ipynb\" target=\"_parent\"><img src=\"https://colab.research.google.com/assets/colab-badge.svg\" alt=\"Open In Colab\"/></a>"
      ]
    },
    {
      "cell_type": "markdown",
      "metadata": {
        "id": "j7eZhgTg_DpW"
      },
      "source": [
        "Analisando o indice geral de reclamações ANS - 08072021\n"
      ]
    },
    {
      "cell_type": "code",
      "metadata": {
        "id": "jsX65XXL_PBN"
      },
      "source": [
        "import pandas as pd\n",
        "import matplotlib as pyplot\n",
        "import matplotlib.pyplot"
      ],
      "execution_count": 83,
      "outputs": []
    },
    {
      "cell_type": "code",
      "metadata": {
        "id": "uAeF41dQ_kmB"
      },
      "source": [
        "df = pd.read_csv('Indice_geral_Reclamações_08072021.csv',encoding='latin-1', sep=',')"
      ],
      "execution_count": 84,
      "outputs": []
    },
    {
      "cell_type": "code",
      "metadata": {
        "colab": {
          "base_uri": "https://localhost:8080/",
          "height": 479
        },
        "id": "ueG8hIaOOcaA",
        "outputId": "ce6225aa-a3ab-4b8d-eeca-fbdc66e713cf"
      },
      "source": [
        "df.head(5)"
      ],
      "execution_count": 85,
      "outputs": [
        {
          "output_type": "execute_result",
          "data": {
            "text/html": [
              "<div>\n",
              "<style scoped>\n",
              "    .dataframe tbody tr th:only-of-type {\n",
              "        vertical-align: middle;\n",
              "    }\n",
              "\n",
              "    .dataframe tbody tr th {\n",
              "        vertical-align: top;\n",
              "    }\n",
              "\n",
              "    .dataframe thead th {\n",
              "        text-align: right;\n",
              "    }\n",
              "</style>\n",
              "<table border=\"1\" class=\"dataframe\">\n",
              "  <thead>\n",
              "    <tr style=\"text-align: right;\">\n",
              "      <th></th>\n",
              "      <th>CD_OPERADORA</th>\n",
              "      <th>Razao_Social</th>\n",
              "      <th>Cobertura</th>\n",
              "      <th>Porte</th>\n",
              "      <th>Classificacao_ultimo_ms</th>\n",
              "      <th>Classificaï¿½ï¿½o no Mï¿½s Anterior</th>\n",
              "      <th>Ago/21</th>\n",
              "      <th>Jul/21</th>\n",
              "      <th>Jun/21</th>\n",
              "      <th>Mai/21</th>\n",
              "      <th>Abr/21</th>\n",
              "      <th>Mar/21</th>\n",
              "      <th>Fev/21</th>\n",
              "      <th>Jan/21</th>\n",
              "      <th>Dez/20</th>\n",
              "      <th>Nov/20</th>\n",
              "      <th>Out/20</th>\n",
              "      <th>Set/20</th>\n",
              "      <th>Competï¿½ncia</th>\n",
              "      <th>Data de atualizaï¿½ï¿½o</th>\n",
              "    </tr>\n",
              "  </thead>\n",
              "  <tbody>\n",
              "    <tr>\n",
              "      <th>0</th>\n",
              "      <td>418374</td>\n",
              "      <td>CAIXA DE ASSISTï¿½NCIA DO SETOR DE ENERGIA -E...</td>\n",
              "      <td>Mï¿½dico Hospitalar</td>\n",
              "      <td>Pequeno</td>\n",
              "      <td>49</td>\n",
              "      <td>50.0</td>\n",
              "      <td>5,55</td>\n",
              "      <td>8,27</td>\n",
              "      <td>7,66</td>\n",
              "      <td>4,27</td>\n",
              "      <td>3,52</td>\n",
              "      <td>2,38</td>\n",
              "      <td>2,71</td>\n",
              "      <td>0,9</td>\n",
              "      <td>0,9</td>\n",
              "      <td>2,25</td>\n",
              "      <td>2,7</td>\n",
              "      <td>4,95</td>\n",
              "      <td>202108</td>\n",
              "      <td>17/09/2021 13:37:01</td>\n",
              "    </tr>\n",
              "    <tr>\n",
              "      <th>1</th>\n",
              "      <td>314668</td>\n",
              "      <td>ABERTTA SAï¿½DE - ASSOCIAï¿½ï¿½O BENEFICENTE D...</td>\n",
              "      <td>Mï¿½dico Hospitalar</td>\n",
              "      <td>Mï¿½dio</td>\n",
              "      <td>167</td>\n",
              "      <td>204.0</td>\n",
              "      <td>0,62</td>\n",
              "      <td>0,42</td>\n",
              "      <td>0,21</td>\n",
              "      <td>0,21</td>\n",
              "      <td>0,21</td>\n",
              "      <td>0,42</td>\n",
              "      <td>0,21</td>\n",
              "      <td>0,21</td>\n",
              "      <td>0</td>\n",
              "      <td>0</td>\n",
              "      <td>0</td>\n",
              "      <td>0</td>\n",
              "      <td>202108</td>\n",
              "      <td>17/09/2021 13:37:01</td>\n",
              "    </tr>\n",
              "    <tr>\n",
              "      <th>2</th>\n",
              "      <td>335657</td>\n",
              "      <td>ADVANCE PLANOS DE SAï¿½DE LTDA</td>\n",
              "      <td>Mï¿½dico Hospitalar</td>\n",
              "      <td>Pequeno</td>\n",
              "      <td>26</td>\n",
              "      <td>31.0</td>\n",
              "      <td>12,02</td>\n",
              "      <td>15,87</td>\n",
              "      <td>11,82</td>\n",
              "      <td>7,82</td>\n",
              "      <td>3,89</td>\n",
              "      <td>3,86</td>\n",
              "      <td>7,67</td>\n",
              "      <td>11,43</td>\n",
              "      <td>11,37</td>\n",
              "      <td>7,54</td>\n",
              "      <td>14,99</td>\n",
              "      <td>22,35</td>\n",
              "      <td>202108</td>\n",
              "      <td>17/09/2021 13:37:01</td>\n",
              "    </tr>\n",
              "    <tr>\n",
              "      <th>3</th>\n",
              "      <td>413283</td>\n",
              "      <td>AESP ODONTO ASSISTï¿½NCIA ODONTOLï¿½GICA S/S L...</td>\n",
              "      <td>Odontolï¿½gica</td>\n",
              "      <td>Mï¿½dio</td>\n",
              "      <td>12</td>\n",
              "      <td>7.0</td>\n",
              "      <td>0,14</td>\n",
              "      <td>0,29</td>\n",
              "      <td>0,3</td>\n",
              "      <td>0,15</td>\n",
              "      <td>0</td>\n",
              "      <td>0</td>\n",
              "      <td>0</td>\n",
              "      <td>0</td>\n",
              "      <td>0</td>\n",
              "      <td>0</td>\n",
              "      <td>0,19</td>\n",
              "      <td>0,39</td>\n",
              "      <td>202108</td>\n",
              "      <td>17/09/2021 13:37:01</td>\n",
              "    </tr>\n",
              "    <tr>\n",
              "      <th>4</th>\n",
              "      <td>368920</td>\n",
              "      <td>AGROS - INSTITUTO UFV DE SEGURIDADE SOCIAL</td>\n",
              "      <td>Mï¿½dico Hospitalar</td>\n",
              "      <td>Pequeno</td>\n",
              "      <td>153</td>\n",
              "      <td>116.0</td>\n",
              "      <td>0,66</td>\n",
              "      <td>1,96</td>\n",
              "      <td>1,96</td>\n",
              "      <td>2,61</td>\n",
              "      <td>3,25</td>\n",
              "      <td>2,6</td>\n",
              "      <td>1,94</td>\n",
              "      <td>0</td>\n",
              "      <td>0</td>\n",
              "      <td>0</td>\n",
              "      <td>0</td>\n",
              "      <td>0</td>\n",
              "      <td>202108</td>\n",
              "      <td>17/09/2021 13:37:01</td>\n",
              "    </tr>\n",
              "  </tbody>\n",
              "</table>\n",
              "</div>"
            ],
            "text/plain": [
              "   CD_OPERADORA  ... Data de atualizaï¿½ï¿½o\n",
              "0        418374  ...     17/09/2021 13:37:01\n",
              "1        314668  ...     17/09/2021 13:37:01\n",
              "2        335657  ...     17/09/2021 13:37:01\n",
              "3        413283  ...     17/09/2021 13:37:01\n",
              "4        368920  ...     17/09/2021 13:37:01\n",
              "\n",
              "[5 rows x 20 columns]"
            ]
          },
          "metadata": {},
          "execution_count": 85
        }
      ]
    },
    {
      "cell_type": "code",
      "metadata": {
        "colab": {
          "base_uri": "https://localhost:8080/"
        },
        "id": "Zp1v7KP2PVvO",
        "outputId": "fc063b3e-0a99-42e2-876e-02556ab8a879"
      },
      "source": [
        "df.head"
      ],
      "execution_count": 86,
      "outputs": [
        {
          "output_type": "execute_result",
          "data": {
            "text/plain": [
              "<bound method NDFrame.head of      CD_OPERADORA  ... Data de atualizaï¿½ï¿½o\n",
              "0          418374  ...     17/09/2021 13:37:01\n",
              "1          314668  ...     17/09/2021 13:37:01\n",
              "2          335657  ...     17/09/2021 13:37:01\n",
              "3          413283  ...     17/09/2021 13:37:01\n",
              "4          368920  ...     17/09/2021 13:37:01\n",
              "..            ...  ...                     ...\n",
              "920        421049  ...     17/09/2021 13:37:01\n",
              "921        351628  ...     17/09/2021 13:37:01\n",
              "922        422380  ...     17/09/2021 13:37:01\n",
              "923        419354  ...     17/09/2021 13:37:01\n",
              "924        421421  ...     17/09/2021 13:37:01\n",
              "\n",
              "[925 rows x 20 columns]>"
            ]
          },
          "metadata": {},
          "execution_count": 86
        }
      ]
    },
    {
      "cell_type": "code",
      "metadata": {
        "colab": {
          "base_uri": "https://localhost:8080/"
        },
        "id": "0rdb8-_DQez8",
        "outputId": "7fe19c1e-6f19-49c0-b835-3396a62afccb"
      },
      "source": [
        "df.median()"
      ],
      "execution_count": 87,
      "outputs": [
        {
          "output_type": "execute_result",
          "data": {
            "text/plain": [
              "CD_OPERADORA                           357669.0\n",
              "Classificacao_ultimo_ms                    76.0\n",
              "Classificaï¿½ï¿½o no Mï¿½s Anterior        75.5\n",
              "Competï¿½ncia                          202108.0\n",
              "dtype: float64"
            ]
          },
          "metadata": {},
          "execution_count": 87
        }
      ]
    },
    {
      "cell_type": "code",
      "metadata": {
        "colab": {
          "base_uri": "https://localhost:8080/"
        },
        "id": "45JE49pdYjUj",
        "outputId": "6fcf4dc0-3d9f-4d30-94dc-0f7f6412ae7f"
      },
      "source": [
        "df.index"
      ],
      "execution_count": 88,
      "outputs": [
        {
          "output_type": "execute_result",
          "data": {
            "text/plain": [
              "RangeIndex(start=0, stop=925, step=1)"
            ]
          },
          "metadata": {},
          "execution_count": 88
        }
      ]
    },
    {
      "cell_type": "code",
      "metadata": {
        "colab": {
          "base_uri": "https://localhost:8080/",
          "height": 827
        },
        "id": "wQnbgnRTZaLr",
        "outputId": "e480766e-e90c-4212-80c2-8ea76ab32293"
      },
      "source": [
        "df.set_index('Cobertura')"
      ],
      "execution_count": 89,
      "outputs": [
        {
          "output_type": "execute_result",
          "data": {
            "text/html": [
              "<div>\n",
              "<style scoped>\n",
              "    .dataframe tbody tr th:only-of-type {\n",
              "        vertical-align: middle;\n",
              "    }\n",
              "\n",
              "    .dataframe tbody tr th {\n",
              "        vertical-align: top;\n",
              "    }\n",
              "\n",
              "    .dataframe thead th {\n",
              "        text-align: right;\n",
              "    }\n",
              "</style>\n",
              "<table border=\"1\" class=\"dataframe\">\n",
              "  <thead>\n",
              "    <tr style=\"text-align: right;\">\n",
              "      <th></th>\n",
              "      <th>CD_OPERADORA</th>\n",
              "      <th>Razao_Social</th>\n",
              "      <th>Porte</th>\n",
              "      <th>Classificacao_ultimo_ms</th>\n",
              "      <th>Classificaï¿½ï¿½o no Mï¿½s Anterior</th>\n",
              "      <th>Ago/21</th>\n",
              "      <th>Jul/21</th>\n",
              "      <th>Jun/21</th>\n",
              "      <th>Mai/21</th>\n",
              "      <th>Abr/21</th>\n",
              "      <th>Mar/21</th>\n",
              "      <th>Fev/21</th>\n",
              "      <th>Jan/21</th>\n",
              "      <th>Dez/20</th>\n",
              "      <th>Nov/20</th>\n",
              "      <th>Out/20</th>\n",
              "      <th>Set/20</th>\n",
              "      <th>Competï¿½ncia</th>\n",
              "      <th>Data de atualizaï¿½ï¿½o</th>\n",
              "    </tr>\n",
              "    <tr>\n",
              "      <th>Cobertura</th>\n",
              "      <th></th>\n",
              "      <th></th>\n",
              "      <th></th>\n",
              "      <th></th>\n",
              "      <th></th>\n",
              "      <th></th>\n",
              "      <th></th>\n",
              "      <th></th>\n",
              "      <th></th>\n",
              "      <th></th>\n",
              "      <th></th>\n",
              "      <th></th>\n",
              "      <th></th>\n",
              "      <th></th>\n",
              "      <th></th>\n",
              "      <th></th>\n",
              "      <th></th>\n",
              "      <th></th>\n",
              "      <th></th>\n",
              "    </tr>\n",
              "  </thead>\n",
              "  <tbody>\n",
              "    <tr>\n",
              "      <th>Mï¿½dico Hospitalar</th>\n",
              "      <td>418374</td>\n",
              "      <td>CAIXA DE ASSISTï¿½NCIA DO SETOR DE ENERGIA -E...</td>\n",
              "      <td>Pequeno</td>\n",
              "      <td>49</td>\n",
              "      <td>50.0</td>\n",
              "      <td>5,55</td>\n",
              "      <td>8,27</td>\n",
              "      <td>7,66</td>\n",
              "      <td>4,27</td>\n",
              "      <td>3,52</td>\n",
              "      <td>2,38</td>\n",
              "      <td>2,71</td>\n",
              "      <td>0,9</td>\n",
              "      <td>0,9</td>\n",
              "      <td>2,25</td>\n",
              "      <td>2,7</td>\n",
              "      <td>4,95</td>\n",
              "      <td>202108</td>\n",
              "      <td>17/09/2021 13:37:01</td>\n",
              "    </tr>\n",
              "    <tr>\n",
              "      <th>Mï¿½dico Hospitalar</th>\n",
              "      <td>314668</td>\n",
              "      <td>ABERTTA SAï¿½DE - ASSOCIAï¿½ï¿½O BENEFICENTE D...</td>\n",
              "      <td>Mï¿½dio</td>\n",
              "      <td>167</td>\n",
              "      <td>204.0</td>\n",
              "      <td>0,62</td>\n",
              "      <td>0,42</td>\n",
              "      <td>0,21</td>\n",
              "      <td>0,21</td>\n",
              "      <td>0,21</td>\n",
              "      <td>0,42</td>\n",
              "      <td>0,21</td>\n",
              "      <td>0,21</td>\n",
              "      <td>0</td>\n",
              "      <td>0</td>\n",
              "      <td>0</td>\n",
              "      <td>0</td>\n",
              "      <td>202108</td>\n",
              "      <td>17/09/2021 13:37:01</td>\n",
              "    </tr>\n",
              "    <tr>\n",
              "      <th>Mï¿½dico Hospitalar</th>\n",
              "      <td>335657</td>\n",
              "      <td>ADVANCE PLANOS DE SAï¿½DE LTDA</td>\n",
              "      <td>Pequeno</td>\n",
              "      <td>26</td>\n",
              "      <td>31.0</td>\n",
              "      <td>12,02</td>\n",
              "      <td>15,87</td>\n",
              "      <td>11,82</td>\n",
              "      <td>7,82</td>\n",
              "      <td>3,89</td>\n",
              "      <td>3,86</td>\n",
              "      <td>7,67</td>\n",
              "      <td>11,43</td>\n",
              "      <td>11,37</td>\n",
              "      <td>7,54</td>\n",
              "      <td>14,99</td>\n",
              "      <td>22,35</td>\n",
              "      <td>202108</td>\n",
              "      <td>17/09/2021 13:37:01</td>\n",
              "    </tr>\n",
              "    <tr>\n",
              "      <th>Odontolï¿½gica</th>\n",
              "      <td>413283</td>\n",
              "      <td>AESP ODONTO ASSISTï¿½NCIA ODONTOLï¿½GICA S/S L...</td>\n",
              "      <td>Mï¿½dio</td>\n",
              "      <td>12</td>\n",
              "      <td>7.0</td>\n",
              "      <td>0,14</td>\n",
              "      <td>0,29</td>\n",
              "      <td>0,3</td>\n",
              "      <td>0,15</td>\n",
              "      <td>0</td>\n",
              "      <td>0</td>\n",
              "      <td>0</td>\n",
              "      <td>0</td>\n",
              "      <td>0</td>\n",
              "      <td>0</td>\n",
              "      <td>0,19</td>\n",
              "      <td>0,39</td>\n",
              "      <td>202108</td>\n",
              "      <td>17/09/2021 13:37:01</td>\n",
              "    </tr>\n",
              "    <tr>\n",
              "      <th>Mï¿½dico Hospitalar</th>\n",
              "      <td>368920</td>\n",
              "      <td>AGROS - INSTITUTO UFV DE SEGURIDADE SOCIAL</td>\n",
              "      <td>Pequeno</td>\n",
              "      <td>153</td>\n",
              "      <td>116.0</td>\n",
              "      <td>0,66</td>\n",
              "      <td>1,96</td>\n",
              "      <td>1,96</td>\n",
              "      <td>2,61</td>\n",
              "      <td>3,25</td>\n",
              "      <td>2,6</td>\n",
              "      <td>1,94</td>\n",
              "      <td>0</td>\n",
              "      <td>0</td>\n",
              "      <td>0</td>\n",
              "      <td>0</td>\n",
              "      <td>0</td>\n",
              "      <td>202108</td>\n",
              "      <td>17/09/2021 13:37:01</td>\n",
              "    </tr>\n",
              "    <tr>\n",
              "      <th>...</th>\n",
              "      <td>...</td>\n",
              "      <td>...</td>\n",
              "      <td>...</td>\n",
              "      <td>...</td>\n",
              "      <td>...</td>\n",
              "      <td>...</td>\n",
              "      <td>...</td>\n",
              "      <td>...</td>\n",
              "      <td>...</td>\n",
              "      <td>...</td>\n",
              "      <td>...</td>\n",
              "      <td>...</td>\n",
              "      <td>...</td>\n",
              "      <td>...</td>\n",
              "      <td>...</td>\n",
              "      <td>...</td>\n",
              "      <td>...</td>\n",
              "      <td>...</td>\n",
              "      <td>...</td>\n",
              "    </tr>\n",
              "    <tr>\n",
              "      <th>Odontolï¿½gica</th>\n",
              "      <td>421049</td>\n",
              "      <td>W. DENTAL PLANOS ODONTOLï¿½GICOS S.A</td>\n",
              "      <td>Pequeno</td>\n",
              "      <td>2</td>\n",
              "      <td>1.0</td>\n",
              "      <td>3,94</td>\n",
              "      <td>5,88</td>\n",
              "      <td>2,03</td>\n",
              "      <td>2,09</td>\n",
              "      <td>2,14</td>\n",
              "      <td>2,2</td>\n",
              "      <td>6,87</td>\n",
              "      <td>7,25</td>\n",
              "      <td>10,55</td>\n",
              "      <td>6,11</td>\n",
              "      <td>7,27</td>\n",
              "      <td>9,04</td>\n",
              "      <td>202108</td>\n",
              "      <td>17/09/2021 13:37:01</td>\n",
              "    </tr>\n",
              "    <tr>\n",
              "      <th>Odontolï¿½gica</th>\n",
              "      <td>351628</td>\n",
              "      <td>WM ADMINISTRAï¿½ï¿½O DE PLANOS ODONTOLï¿½GICOS...</td>\n",
              "      <td>Pequeno</td>\n",
              "      <td>7</td>\n",
              "      <td>8.0</td>\n",
              "      <td>0</td>\n",
              "      <td>0</td>\n",
              "      <td>0</td>\n",
              "      <td>0</td>\n",
              "      <td>0</td>\n",
              "      <td>0</td>\n",
              "      <td>0</td>\n",
              "      <td>0</td>\n",
              "      <td>0</td>\n",
              "      <td>0</td>\n",
              "      <td>0</td>\n",
              "      <td>0</td>\n",
              "      <td>202108</td>\n",
              "      <td>17/09/2021 13:37:01</td>\n",
              "    </tr>\n",
              "    <tr>\n",
              "      <th>Mï¿½dico Hospitalar</th>\n",
              "      <td>422380</td>\n",
              "      <td>YOU ASSISTï¿½NCIA Mï¿½DICA LTDA.</td>\n",
              "      <td>Pequeno</td>\n",
              "      <td>15</td>\n",
              "      <td>16.0</td>\n",
              "      <td>24,84</td>\n",
              "      <td>33,05</td>\n",
              "      <td>20,89</td>\n",
              "      <td>0</td>\n",
              "      <td>0</td>\n",
              "      <td>0</td>\n",
              "      <td>26,04</td>\n",
              "      <td>42,13</td>\n",
              "      <td>87,72</td>\n",
              "      <td>NaN</td>\n",
              "      <td>NaN</td>\n",
              "      <td>NaN</td>\n",
              "      <td>202108</td>\n",
              "      <td>17/09/2021 13:37:01</td>\n",
              "    </tr>\n",
              "    <tr>\n",
              "      <th>Odontolï¿½gica</th>\n",
              "      <td>419354</td>\n",
              "      <td>ZURICH SANTANDER BRASIL ODONTO LTDA.</td>\n",
              "      <td>Mï¿½dio</td>\n",
              "      <td>2</td>\n",
              "      <td>3.0</td>\n",
              "      <td>0,72</td>\n",
              "      <td>0,49</td>\n",
              "      <td>0,49</td>\n",
              "      <td>0,76</td>\n",
              "      <td>0,76</td>\n",
              "      <td>0,75</td>\n",
              "      <td>0,49</td>\n",
              "      <td>0,72</td>\n",
              "      <td>0,71</td>\n",
              "      <td>0,46</td>\n",
              "      <td>0,69</td>\n",
              "      <td>0,92</td>\n",
              "      <td>202108</td>\n",
              "      <td>17/09/2021 13:37:01</td>\n",
              "    </tr>\n",
              "    <tr>\n",
              "      <th>Mï¿½dico Hospitalar</th>\n",
              "      <td>421421</td>\n",
              "      <td>2CARE OPERADORA DE SAï¿½DE LTDA.</td>\n",
              "      <td>Mï¿½dio</td>\n",
              "      <td>108</td>\n",
              "      <td>87.0</td>\n",
              "      <td>1,44</td>\n",
              "      <td>2,53</td>\n",
              "      <td>2,16</td>\n",
              "      <td>3,24</td>\n",
              "      <td>1,79</td>\n",
              "      <td>1,79</td>\n",
              "      <td>1,42</td>\n",
              "      <td>1,78</td>\n",
              "      <td>2,12</td>\n",
              "      <td>1,04</td>\n",
              "      <td>0</td>\n",
              "      <td>0</td>\n",
              "      <td>202108</td>\n",
              "      <td>17/09/2021 13:37:01</td>\n",
              "    </tr>\n",
              "  </tbody>\n",
              "</table>\n",
              "<p>925 rows × 19 columns</p>\n",
              "</div>"
            ],
            "text/plain": [
              "                     CD_OPERADORA  ... Data de atualizaï¿½ï¿½o\n",
              "Cobertura                          ...                        \n",
              "Mï¿½dico Hospitalar        418374  ...     17/09/2021 13:37:01\n",
              "Mï¿½dico Hospitalar        314668  ...     17/09/2021 13:37:01\n",
              "Mï¿½dico Hospitalar        335657  ...     17/09/2021 13:37:01\n",
              "Odontolï¿½gica             413283  ...     17/09/2021 13:37:01\n",
              "Mï¿½dico Hospitalar        368920  ...     17/09/2021 13:37:01\n",
              "...                           ...  ...                     ...\n",
              "Odontolï¿½gica             421049  ...     17/09/2021 13:37:01\n",
              "Odontolï¿½gica             351628  ...     17/09/2021 13:37:01\n",
              "Mï¿½dico Hospitalar        422380  ...     17/09/2021 13:37:01\n",
              "Odontolï¿½gica             419354  ...     17/09/2021 13:37:01\n",
              "Mï¿½dico Hospitalar        421421  ...     17/09/2021 13:37:01\n",
              "\n",
              "[925 rows x 19 columns]"
            ]
          },
          "metadata": {},
          "execution_count": 89
        }
      ]
    },
    {
      "cell_type": "code",
      "metadata": {
        "id": "P1xoNgaYbDiR"
      },
      "source": [
        "dfmedhosp = df[df['Cobertura'] == 'Mï¿½dico Hospitalar']"
      ],
      "execution_count": 90,
      "outputs": []
    },
    {
      "cell_type": "code",
      "metadata": {
        "id": "TrGC3ZXkb0JN",
        "colab": {
          "base_uri": "https://localhost:8080/",
          "height": 864
        },
        "outputId": "98748b06-8974-4225-f43a-4118f961a8d2"
      },
      "source": [
        "dfmedhosp"
      ],
      "execution_count": 91,
      "outputs": [
        {
          "output_type": "execute_result",
          "data": {
            "text/html": [
              "<div>\n",
              "<style scoped>\n",
              "    .dataframe tbody tr th:only-of-type {\n",
              "        vertical-align: middle;\n",
              "    }\n",
              "\n",
              "    .dataframe tbody tr th {\n",
              "        vertical-align: top;\n",
              "    }\n",
              "\n",
              "    .dataframe thead th {\n",
              "        text-align: right;\n",
              "    }\n",
              "</style>\n",
              "<table border=\"1\" class=\"dataframe\">\n",
              "  <thead>\n",
              "    <tr style=\"text-align: right;\">\n",
              "      <th></th>\n",
              "      <th>CD_OPERADORA</th>\n",
              "      <th>Razao_Social</th>\n",
              "      <th>Cobertura</th>\n",
              "      <th>Porte</th>\n",
              "      <th>Classificacao_ultimo_ms</th>\n",
              "      <th>Classificaï¿½ï¿½o no Mï¿½s Anterior</th>\n",
              "      <th>Ago/21</th>\n",
              "      <th>Jul/21</th>\n",
              "      <th>Jun/21</th>\n",
              "      <th>Mai/21</th>\n",
              "      <th>Abr/21</th>\n",
              "      <th>Mar/21</th>\n",
              "      <th>Fev/21</th>\n",
              "      <th>Jan/21</th>\n",
              "      <th>Dez/20</th>\n",
              "      <th>Nov/20</th>\n",
              "      <th>Out/20</th>\n",
              "      <th>Set/20</th>\n",
              "      <th>Competï¿½ncia</th>\n",
              "      <th>Data de atualizaï¿½ï¿½o</th>\n",
              "    </tr>\n",
              "  </thead>\n",
              "  <tbody>\n",
              "    <tr>\n",
              "      <th>0</th>\n",
              "      <td>418374</td>\n",
              "      <td>CAIXA DE ASSISTï¿½NCIA DO SETOR DE ENERGIA -E...</td>\n",
              "      <td>Mï¿½dico Hospitalar</td>\n",
              "      <td>Pequeno</td>\n",
              "      <td>49</td>\n",
              "      <td>50.0</td>\n",
              "      <td>5,55</td>\n",
              "      <td>8,27</td>\n",
              "      <td>7,66</td>\n",
              "      <td>4,27</td>\n",
              "      <td>3,52</td>\n",
              "      <td>2,38</td>\n",
              "      <td>2,71</td>\n",
              "      <td>0,9</td>\n",
              "      <td>0,9</td>\n",
              "      <td>2,25</td>\n",
              "      <td>2,7</td>\n",
              "      <td>4,95</td>\n",
              "      <td>202108</td>\n",
              "      <td>17/09/2021 13:37:01</td>\n",
              "    </tr>\n",
              "    <tr>\n",
              "      <th>1</th>\n",
              "      <td>314668</td>\n",
              "      <td>ABERTTA SAï¿½DE - ASSOCIAï¿½ï¿½O BENEFICENTE D...</td>\n",
              "      <td>Mï¿½dico Hospitalar</td>\n",
              "      <td>Mï¿½dio</td>\n",
              "      <td>167</td>\n",
              "      <td>204.0</td>\n",
              "      <td>0,62</td>\n",
              "      <td>0,42</td>\n",
              "      <td>0,21</td>\n",
              "      <td>0,21</td>\n",
              "      <td>0,21</td>\n",
              "      <td>0,42</td>\n",
              "      <td>0,21</td>\n",
              "      <td>0,21</td>\n",
              "      <td>0</td>\n",
              "      <td>0</td>\n",
              "      <td>0</td>\n",
              "      <td>0</td>\n",
              "      <td>202108</td>\n",
              "      <td>17/09/2021 13:37:01</td>\n",
              "    </tr>\n",
              "    <tr>\n",
              "      <th>2</th>\n",
              "      <td>335657</td>\n",
              "      <td>ADVANCE PLANOS DE SAï¿½DE LTDA</td>\n",
              "      <td>Mï¿½dico Hospitalar</td>\n",
              "      <td>Pequeno</td>\n",
              "      <td>26</td>\n",
              "      <td>31.0</td>\n",
              "      <td>12,02</td>\n",
              "      <td>15,87</td>\n",
              "      <td>11,82</td>\n",
              "      <td>7,82</td>\n",
              "      <td>3,89</td>\n",
              "      <td>3,86</td>\n",
              "      <td>7,67</td>\n",
              "      <td>11,43</td>\n",
              "      <td>11,37</td>\n",
              "      <td>7,54</td>\n",
              "      <td>14,99</td>\n",
              "      <td>22,35</td>\n",
              "      <td>202108</td>\n",
              "      <td>17/09/2021 13:37:01</td>\n",
              "    </tr>\n",
              "    <tr>\n",
              "      <th>4</th>\n",
              "      <td>368920</td>\n",
              "      <td>AGROS - INSTITUTO UFV DE SEGURIDADE SOCIAL</td>\n",
              "      <td>Mï¿½dico Hospitalar</td>\n",
              "      <td>Pequeno</td>\n",
              "      <td>153</td>\n",
              "      <td>116.0</td>\n",
              "      <td>0,66</td>\n",
              "      <td>1,96</td>\n",
              "      <td>1,96</td>\n",
              "      <td>2,61</td>\n",
              "      <td>3,25</td>\n",
              "      <td>2,6</td>\n",
              "      <td>1,94</td>\n",
              "      <td>0</td>\n",
              "      <td>0</td>\n",
              "      <td>0</td>\n",
              "      <td>0</td>\n",
              "      <td>0</td>\n",
              "      <td>202108</td>\n",
              "      <td>17/09/2021 13:37:01</td>\n",
              "    </tr>\n",
              "    <tr>\n",
              "      <th>5</th>\n",
              "      <td>416975</td>\n",
              "      <td>ALCANCE SAï¿½DE EIRELI</td>\n",
              "      <td>Mï¿½dico Hospitalar</td>\n",
              "      <td>Pequeno</td>\n",
              "      <td>164</td>\n",
              "      <td>187.0</td>\n",
              "      <td>0</td>\n",
              "      <td>0</td>\n",
              "      <td>0</td>\n",
              "      <td>0</td>\n",
              "      <td>0</td>\n",
              "      <td>0</td>\n",
              "      <td>2,3</td>\n",
              "      <td>2,31</td>\n",
              "      <td>2,31</td>\n",
              "      <td>0</td>\n",
              "      <td>0</td>\n",
              "      <td>2,35</td>\n",
              "      <td>202108</td>\n",
              "      <td>17/09/2021 13:37:01</td>\n",
              "    </tr>\n",
              "    <tr>\n",
              "      <th>...</th>\n",
              "      <td>...</td>\n",
              "      <td>...</td>\n",
              "      <td>...</td>\n",
              "      <td>...</td>\n",
              "      <td>...</td>\n",
              "      <td>...</td>\n",
              "      <td>...</td>\n",
              "      <td>...</td>\n",
              "      <td>...</td>\n",
              "      <td>...</td>\n",
              "      <td>...</td>\n",
              "      <td>...</td>\n",
              "      <td>...</td>\n",
              "      <td>...</td>\n",
              "      <td>...</td>\n",
              "      <td>...</td>\n",
              "      <td>...</td>\n",
              "      <td>...</td>\n",
              "      <td>...</td>\n",
              "      <td>...</td>\n",
              "    </tr>\n",
              "    <tr>\n",
              "      <th>917</th>\n",
              "      <td>414905</td>\n",
              "      <td>VITA ASSISTï¿½NCIA A SAï¿½DE LTDA.</td>\n",
              "      <td>Mï¿½dico Hospitalar</td>\n",
              "      <td>Pequeno</td>\n",
              "      <td>94</td>\n",
              "      <td>103.0</td>\n",
              "      <td>1,76</td>\n",
              "      <td>2,73</td>\n",
              "      <td>2,78</td>\n",
              "      <td>3,77</td>\n",
              "      <td>2,87</td>\n",
              "      <td>2,93</td>\n",
              "      <td>1,99</td>\n",
              "      <td>3,1</td>\n",
              "      <td>2,15</td>\n",
              "      <td>1,14</td>\n",
              "      <td>0</td>\n",
              "      <td>0</td>\n",
              "      <td>202108</td>\n",
              "      <td>17/09/2021 13:37:01</td>\n",
              "    </tr>\n",
              "    <tr>\n",
              "      <th>918</th>\n",
              "      <td>361461</td>\n",
              "      <td>VIVACOM PLANOS DE SAï¿½DE</td>\n",
              "      <td>Mï¿½dico Hospitalar</td>\n",
              "      <td>Pequeno</td>\n",
              "      <td>164</td>\n",
              "      <td>173.0</td>\n",
              "      <td>0</td>\n",
              "      <td>0,65</td>\n",
              "      <td>1,3</td>\n",
              "      <td>4,55</td>\n",
              "      <td>3,89</td>\n",
              "      <td>3,23</td>\n",
              "      <td>1,29</td>\n",
              "      <td>1,92</td>\n",
              "      <td>3,83</td>\n",
              "      <td>3,18</td>\n",
              "      <td>3,8</td>\n",
              "      <td>3,16</td>\n",
              "      <td>202108</td>\n",
              "      <td>17/09/2021 13:37:01</td>\n",
              "    </tr>\n",
              "    <tr>\n",
              "      <th>919</th>\n",
              "      <td>414247</td>\n",
              "      <td>VOLVO DO BRASIL VEï¿½CULOS LTDA.</td>\n",
              "      <td>Mï¿½dico Hospitalar</td>\n",
              "      <td>Pequeno</td>\n",
              "      <td>164</td>\n",
              "      <td>187.0</td>\n",
              "      <td>0</td>\n",
              "      <td>0</td>\n",
              "      <td>0</td>\n",
              "      <td>0</td>\n",
              "      <td>0</td>\n",
              "      <td>0</td>\n",
              "      <td>0</td>\n",
              "      <td>0</td>\n",
              "      <td>0</td>\n",
              "      <td>0</td>\n",
              "      <td>0,94</td>\n",
              "      <td>0,95</td>\n",
              "      <td>202108</td>\n",
              "      <td>17/09/2021 13:37:01</td>\n",
              "    </tr>\n",
              "    <tr>\n",
              "      <th>922</th>\n",
              "      <td>422380</td>\n",
              "      <td>YOU ASSISTï¿½NCIA Mï¿½DICA LTDA.</td>\n",
              "      <td>Mï¿½dico Hospitalar</td>\n",
              "      <td>Pequeno</td>\n",
              "      <td>15</td>\n",
              "      <td>16.0</td>\n",
              "      <td>24,84</td>\n",
              "      <td>33,05</td>\n",
              "      <td>20,89</td>\n",
              "      <td>0</td>\n",
              "      <td>0</td>\n",
              "      <td>0</td>\n",
              "      <td>26,04</td>\n",
              "      <td>42,13</td>\n",
              "      <td>87,72</td>\n",
              "      <td>NaN</td>\n",
              "      <td>NaN</td>\n",
              "      <td>NaN</td>\n",
              "      <td>202108</td>\n",
              "      <td>17/09/2021 13:37:01</td>\n",
              "    </tr>\n",
              "    <tr>\n",
              "      <th>924</th>\n",
              "      <td>421421</td>\n",
              "      <td>2CARE OPERADORA DE SAï¿½DE LTDA.</td>\n",
              "      <td>Mï¿½dico Hospitalar</td>\n",
              "      <td>Mï¿½dio</td>\n",
              "      <td>108</td>\n",
              "      <td>87.0</td>\n",
              "      <td>1,44</td>\n",
              "      <td>2,53</td>\n",
              "      <td>2,16</td>\n",
              "      <td>3,24</td>\n",
              "      <td>1,79</td>\n",
              "      <td>1,79</td>\n",
              "      <td>1,42</td>\n",
              "      <td>1,78</td>\n",
              "      <td>2,12</td>\n",
              "      <td>1,04</td>\n",
              "      <td>0</td>\n",
              "      <td>0</td>\n",
              "      <td>202108</td>\n",
              "      <td>17/09/2021 13:37:01</td>\n",
              "    </tr>\n",
              "  </tbody>\n",
              "</table>\n",
              "<p>688 rows × 20 columns</p>\n",
              "</div>"
            ],
            "text/plain": [
              "     CD_OPERADORA  ... Data de atualizaï¿½ï¿½o\n",
              "0          418374  ...     17/09/2021 13:37:01\n",
              "1          314668  ...     17/09/2021 13:37:01\n",
              "2          335657  ...     17/09/2021 13:37:01\n",
              "4          368920  ...     17/09/2021 13:37:01\n",
              "5          416975  ...     17/09/2021 13:37:01\n",
              "..            ...  ...                     ...\n",
              "917        414905  ...     17/09/2021 13:37:01\n",
              "918        361461  ...     17/09/2021 13:37:01\n",
              "919        414247  ...     17/09/2021 13:37:01\n",
              "922        422380  ...     17/09/2021 13:37:01\n",
              "924        421421  ...     17/09/2021 13:37:01\n",
              "\n",
              "[688 rows x 20 columns]"
            ]
          },
          "metadata": {},
          "execution_count": 91
        }
      ]
    },
    {
      "cell_type": "code",
      "metadata": {
        "id": "jYC170T_hReh"
      },
      "source": [
        "  dfsantahelena = dfmedhosp[dfmedhosp.Razao_Social == 'SANTA HELENA ASSIST�NCIA M�DICA S/A.']"
      ],
      "execution_count": 92,
      "outputs": []
    },
    {
      "cell_type": "code",
      "metadata": {
        "id": "J6ojznlmiA8S",
        "colab": {
          "base_uri": "https://localhost:8080/",
          "height": 86
        },
        "outputId": "e8adf264-477b-4f5a-b56c-d6e95a750948"
      },
      "source": [
        "dfsantahelena.head()"
      ],
      "execution_count": 93,
      "outputs": [
        {
          "output_type": "execute_result",
          "data": {
            "text/html": [
              "<div>\n",
              "<style scoped>\n",
              "    .dataframe tbody tr th:only-of-type {\n",
              "        vertical-align: middle;\n",
              "    }\n",
              "\n",
              "    .dataframe tbody tr th {\n",
              "        vertical-align: top;\n",
              "    }\n",
              "\n",
              "    .dataframe thead th {\n",
              "        text-align: right;\n",
              "    }\n",
              "</style>\n",
              "<table border=\"1\" class=\"dataframe\">\n",
              "  <thead>\n",
              "    <tr style=\"text-align: right;\">\n",
              "      <th></th>\n",
              "      <th>CD_OPERADORA</th>\n",
              "      <th>Razao_Social</th>\n",
              "      <th>Cobertura</th>\n",
              "      <th>Porte</th>\n",
              "      <th>Classificacao_ultimo_ms</th>\n",
              "      <th>Classificaï¿½ï¿½o no Mï¿½s Anterior</th>\n",
              "      <th>Ago/21</th>\n",
              "      <th>Jul/21</th>\n",
              "      <th>Jun/21</th>\n",
              "      <th>Mai/21</th>\n",
              "      <th>Abr/21</th>\n",
              "      <th>Mar/21</th>\n",
              "      <th>Fev/21</th>\n",
              "      <th>Jan/21</th>\n",
              "      <th>Dez/20</th>\n",
              "      <th>Nov/20</th>\n",
              "      <th>Out/20</th>\n",
              "      <th>Set/20</th>\n",
              "      <th>Competï¿½ncia</th>\n",
              "      <th>Data de atualizaï¿½ï¿½o</th>\n",
              "    </tr>\n",
              "  </thead>\n",
              "  <tbody>\n",
              "  </tbody>\n",
              "</table>\n",
              "</div>"
            ],
            "text/plain": [
              "Empty DataFrame\n",
              "Columns: [CD_OPERADORA, Razao_Social, Cobertura, Porte, Classificacao_ultimo_ms, Classificaï¿½ï¿½o no Mï¿½s Anterior, Ago/21, Jul/21, Jun/21, Mai/21, Abr/21, Mar/21, Fev/21, Jan/21, Dez/20, Nov/20, Out/20, Set/20, Competï¿½ncia, Data de atualizaï¿½ï¿½o]\n",
              "Index: []"
            ]
          },
          "metadata": {},
          "execution_count": 93
        }
      ]
    },
    {
      "cell_type": "code",
      "metadata": {
        "id": "QcmjxSPAkESt"
      },
      "source": [
        "letras = (\"A\",\"B\",\"C\",\"D\",\"E\",\"F\",\"G\",\"H\",\"J\",\"I\")\n",
        "numeros = (12.30,33,45,5,3,32,68,3,2,57)"
      ],
      "execution_count": 94,
      "outputs": []
    },
    {
      "cell_type": "code",
      "metadata": {
        "colab": {
          "base_uri": "https://localhost:8080/",
          "height": 282
        },
        "id": "J_5fOD2XluIK",
        "outputId": "4999305d-641a-4de9-ad23-ddc24844aa70"
      },
      "source": [
        "matplotlib.pyplot.plot(letras, numeros)"
      ],
      "execution_count": 95,
      "outputs": [
        {
          "output_type": "execute_result",
          "data": {
            "text/plain": [
              "[<matplotlib.lines.Line2D at 0x7f4848e50e10>]"
            ]
          },
          "metadata": {},
          "execution_count": 95
        },
        {
          "output_type": "display_data",
          "data": {
            "image/png": "[encoded data removed]",
            "text/plain": [
              "<Figure size 432x288 with 1 Axes>"
            ]
          },
          "metadata": {
            "needs_background": "light"
          }
        }
      ]
    },
    {
      "cell_type": "code",
      "metadata": {
        "colab": {
          "base_uri": "https://localhost:8080/",
          "height": 286
        },
        "id": "XjfAgCWKoZtt",
        "outputId": "e584b3b8-a921-4acc-81c7-1d3442886ff3"
      },
      "source": [
        "matplotlib.pyplot.plot(letras,numeros)\n",
        "matplotlib.pyplot.ylim(30,100)\n",
        "##matplotlib.pyplot.show()"
      ],
      "execution_count": 96,
      "outputs": [
        {
          "output_type": "execute_result",
          "data": {
            "text/plain": [
              "(30.0, 100.0)"
            ]
          },
          "metadata": {},
          "execution_count": 96
        },
        {
          "output_type": "display_data",
          "data": {
            "image/png": "[encoded data removed]",
            "text/plain": [
              "<Figure size 432x288 with 1 Axes>"
            ]
          },
          "metadata": {
            "needs_background": "light"
          }
        }
      ]
    },
    {
      "cell_type": "code",
      "metadata": {
        "colab": {
          "base_uri": "https://localhost:8080/",
          "height": 297
        },
        "id": "x3Lp4zmapls5",
        "outputId": "8d11c33c-1a16-4171-9f4c-62b7ac94373b"
      },
      "source": [
        "dfmedhosp.describe()"
      ],
      "execution_count": 97,
      "outputs": [
        {
          "output_type": "execute_result",
          "data": {
            "text/html": [
              "<div>\n",
              "<style scoped>\n",
              "    .dataframe tbody tr th:only-of-type {\n",
              "        vertical-align: middle;\n",
              "    }\n",
              "\n",
              "    .dataframe tbody tr th {\n",
              "        vertical-align: top;\n",
              "    }\n",
              "\n",
              "    .dataframe thead th {\n",
              "        text-align: right;\n",
              "    }\n",
              "</style>\n",
              "<table border=\"1\" class=\"dataframe\">\n",
              "  <thead>\n",
              "    <tr style=\"text-align: right;\">\n",
              "      <th></th>\n",
              "      <th>CD_OPERADORA</th>\n",
              "      <th>Classificacao_ultimo_ms</th>\n",
              "      <th>Classificaï¿½ï¿½o no Mï¿½s Anterior</th>\n",
              "      <th>Competï¿½ncia</th>\n",
              "    </tr>\n",
              "  </thead>\n",
              "  <tbody>\n",
              "    <tr>\n",
              "      <th>count</th>\n",
              "      <td>688.000000</td>\n",
              "      <td>688.000000</td>\n",
              "      <td>687.000000</td>\n",
              "      <td>688.0</td>\n",
              "    </tr>\n",
              "    <tr>\n",
              "      <th>mean</th>\n",
              "      <td>358714.587209</td>\n",
              "      <td>113.851744</td>\n",
              "      <td>120.320233</td>\n",
              "      <td>202108.0</td>\n",
              "    </tr>\n",
              "    <tr>\n",
              "      <th>std</th>\n",
              "      <td>54251.271607</td>\n",
              "      <td>60.959706</td>\n",
              "      <td>67.109692</td>\n",
              "      <td>0.0</td>\n",
              "    </tr>\n",
              "    <tr>\n",
              "      <th>min</th>\n",
              "      <td>477.000000</td>\n",
              "      <td>1.000000</td>\n",
              "      <td>1.000000</td>\n",
              "      <td>202108.0</td>\n",
              "    </tr>\n",
              "    <tr>\n",
              "      <th>25%</th>\n",
              "      <td>325197.500000</td>\n",
              "      <td>58.000000</td>\n",
              "      <td>58.000000</td>\n",
              "      <td>202108.0</td>\n",
              "    </tr>\n",
              "    <tr>\n",
              "      <th>50%</th>\n",
              "      <td>353043.500000</td>\n",
              "      <td>131.500000</td>\n",
              "      <td>131.000000</td>\n",
              "      <td>202108.0</td>\n",
              "    </tr>\n",
              "    <tr>\n",
              "      <th>75%</th>\n",
              "      <td>410371.000000</td>\n",
              "      <td>164.000000</td>\n",
              "      <td>187.000000</td>\n",
              "      <td>202108.0</td>\n",
              "    </tr>\n",
              "    <tr>\n",
              "      <th>max</th>\n",
              "      <td>422754.000000</td>\n",
              "      <td>214.000000</td>\n",
              "      <td>219.000000</td>\n",
              "      <td>202108.0</td>\n",
              "    </tr>\n",
              "  </tbody>\n",
              "</table>\n",
              "</div>"
            ],
            "text/plain": [
              "        CD_OPERADORA  ...  Competï¿½ncia\n",
              "count     688.000000  ...          688.0\n",
              "mean   358714.587209  ...       202108.0\n",
              "std     54251.271607  ...            0.0\n",
              "min       477.000000  ...       202108.0\n",
              "25%    325197.500000  ...       202108.0\n",
              "50%    353043.500000  ...       202108.0\n",
              "75%    410371.000000  ...       202108.0\n",
              "max    422754.000000  ...       202108.0\n",
              "\n",
              "[8 rows x 4 columns]"
            ]
          },
          "metadata": {},
          "execution_count": 97
        }
      ]
    },
    {
      "cell_type": "code",
      "metadata": {
        "id": "lT3po4TbrIgV"
      },
      "source": [
        "razaosocial = dfmedhosp[dfmedhosp=='Cobertura']"
      ],
      "execution_count": 98,
      "outputs": []
    },
    {
      "cell_type": "code",
      "metadata": {
        "id": "BRG7CF9LW8Ki"
      },
      "source": [
        "dfclassificacao= dfmedhosp[dfmedhosp.Classificacao_ultimo_ms <= 3]"
      ],
      "execution_count": 99,
      "outputs": []
    },
    {
      "cell_type": "code",
      "metadata": {
        "id": "p5Xl83BRXaK5",
        "colab": {
          "base_uri": "https://localhost:8080/",
          "height": 705
        },
        "outputId": "d1244ca5-780e-4ef0-bd3a-f50e4a2a23b7"
      },
      "source": [
        "dfclassificacao.head(30)"
      ],
      "execution_count": 100,
      "outputs": [
        {
          "output_type": "execute_result",
          "data": {
            "text/html": [
              "<div>\n",
              "<style scoped>\n",
              "    .dataframe tbody tr th:only-of-type {\n",
              "        vertical-align: middle;\n",
              "    }\n",
              "\n",
              "    .dataframe tbody tr th {\n",
              "        vertical-align: top;\n",
              "    }\n",
              "\n",
              "    .dataframe thead th {\n",
              "        text-align: right;\n",
              "    }\n",
              "</style>\n",
              "<table border=\"1\" class=\"dataframe\">\n",
              "  <thead>\n",
              "    <tr style=\"text-align: right;\">\n",
              "      <th></th>\n",
              "      <th>CD_OPERADORA</th>\n",
              "      <th>Razao_Social</th>\n",
              "      <th>Cobertura</th>\n",
              "      <th>Porte</th>\n",
              "      <th>Classificacao_ultimo_ms</th>\n",
              "      <th>Classificaï¿½ï¿½o no Mï¿½s Anterior</th>\n",
              "      <th>Ago/21</th>\n",
              "      <th>Jul/21</th>\n",
              "      <th>Jun/21</th>\n",
              "      <th>Mai/21</th>\n",
              "      <th>Abr/21</th>\n",
              "      <th>Mar/21</th>\n",
              "      <th>Fev/21</th>\n",
              "      <th>Jan/21</th>\n",
              "      <th>Dez/20</th>\n",
              "      <th>Nov/20</th>\n",
              "      <th>Out/20</th>\n",
              "      <th>Set/20</th>\n",
              "      <th>Competï¿½ncia</th>\n",
              "      <th>Data de atualizaï¿½ï¿½o</th>\n",
              "    </tr>\n",
              "  </thead>\n",
              "  <tbody>\n",
              "    <tr>\n",
              "      <th>38</th>\n",
              "      <td>314218</td>\n",
              "      <td>ASSOCIAï¿½ï¿½O DE BENEFICï¿½NCIA E FILANTROPIA...</td>\n",
              "      <td>Mï¿½dico Hospitalar</td>\n",
              "      <td>Grande</td>\n",
              "      <td>1</td>\n",
              "      <td>2.0</td>\n",
              "      <td>11,06</td>\n",
              "      <td>14,53</td>\n",
              "      <td>14,07</td>\n",
              "      <td>15,61</td>\n",
              "      <td>14,57</td>\n",
              "      <td>13,32</td>\n",
              "      <td>10,67</td>\n",
              "      <td>10,66</td>\n",
              "      <td>13,11</td>\n",
              "      <td>13,37</td>\n",
              "      <td>11,75</td>\n",
              "      <td>10,46</td>\n",
              "      <td>202108</td>\n",
              "      <td>17/09/2021 13:37:01</td>\n",
              "    </tr>\n",
              "    <tr>\n",
              "      <th>116</th>\n",
              "      <td>415111</td>\n",
              "      <td>BIOVIDA SAï¿½DE LTDA.</td>\n",
              "      <td>Mï¿½dico Hospitalar</td>\n",
              "      <td>Mï¿½dio</td>\n",
              "      <td>3</td>\n",
              "      <td>3.0</td>\n",
              "      <td>17,02</td>\n",
              "      <td>20,46</td>\n",
              "      <td>18,74</td>\n",
              "      <td>18,01</td>\n",
              "      <td>20,32</td>\n",
              "      <td>18,68</td>\n",
              "      <td>18,76</td>\n",
              "      <td>24,54</td>\n",
              "      <td>43,7</td>\n",
              "      <td>70,4</td>\n",
              "      <td>87,71</td>\n",
              "      <td>90,1</td>\n",
              "      <td>202108</td>\n",
              "      <td>17/09/2021 13:37:01</td>\n",
              "    </tr>\n",
              "    <tr>\n",
              "      <th>246</th>\n",
              "      <td>416282</td>\n",
              "      <td>E.X.M BRASIL SAï¿½DE LTDA</td>\n",
              "      <td>Mï¿½dico Hospitalar</td>\n",
              "      <td>Pequeno</td>\n",
              "      <td>1</td>\n",
              "      <td>2.0</td>\n",
              "      <td>321,89</td>\n",
              "      <td>329,53</td>\n",
              "      <td>211,18</td>\n",
              "      <td>233,42</td>\n",
              "      <td>206,14</td>\n",
              "      <td>201,1</td>\n",
              "      <td>241,01</td>\n",
              "      <td>278,4</td>\n",
              "      <td>281,39</td>\n",
              "      <td>190,61</td>\n",
              "      <td>110,53</td>\n",
              "      <td>97,91</td>\n",
              "      <td>202108</td>\n",
              "      <td>17/09/2021 13:37:01</td>\n",
              "    </tr>\n",
              "    <tr>\n",
              "      <th>281</th>\n",
              "      <td>323080</td>\n",
              "      <td>GEAP AUTOGESTï¿½O EM SAï¿½DE</td>\n",
              "      <td>Mï¿½dico Hospitalar</td>\n",
              "      <td>Grande</td>\n",
              "      <td>2</td>\n",
              "      <td>4.0</td>\n",
              "      <td>10,9</td>\n",
              "      <td>13,57</td>\n",
              "      <td>12,64</td>\n",
              "      <td>14,7</td>\n",
              "      <td>14,55</td>\n",
              "      <td>13,98</td>\n",
              "      <td>12,18</td>\n",
              "      <td>13,41</td>\n",
              "      <td>14,6</td>\n",
              "      <td>15,57</td>\n",
              "      <td>15,06</td>\n",
              "      <td>17,41</td>\n",
              "      <td>202108</td>\n",
              "      <td>17/09/2021 13:37:01</td>\n",
              "    </tr>\n",
              "    <tr>\n",
              "      <th>404</th>\n",
              "      <td>402478</td>\n",
              "      <td>ORALCLASS ASSISTENCIA Mï¿½DICA E ODONTOLOGICA ...</td>\n",
              "      <td>Mï¿½dico Hospitalar</td>\n",
              "      <td>Pequeno</td>\n",
              "      <td>3</td>\n",
              "      <td>4.0</td>\n",
              "      <td>223,62</td>\n",
              "      <td>210,52</td>\n",
              "      <td>153,89</td>\n",
              "      <td>154,71</td>\n",
              "      <td>146,3</td>\n",
              "      <td>130,17</td>\n",
              "      <td>151,64</td>\n",
              "      <td>176,37</td>\n",
              "      <td>203,39</td>\n",
              "      <td>160,18</td>\n",
              "      <td>127,61</td>\n",
              "      <td>91,56</td>\n",
              "      <td>202108</td>\n",
              "      <td>17/09/2021 13:37:01</td>\n",
              "    </tr>\n",
              "    <tr>\n",
              "      <th>508</th>\n",
              "      <td>320111</td>\n",
              "      <td>SAï¿½DE SIM LTDA</td>\n",
              "      <td>Mï¿½dico Hospitalar</td>\n",
              "      <td>Mï¿½dio</td>\n",
              "      <td>1</td>\n",
              "      <td>1.0</td>\n",
              "      <td>26,28</td>\n",
              "      <td>34,24</td>\n",
              "      <td>28,81</td>\n",
              "      <td>23,58</td>\n",
              "      <td>14,91</td>\n",
              "      <td>11,53</td>\n",
              "      <td>8,54</td>\n",
              "      <td>9,13</td>\n",
              "      <td>8,61</td>\n",
              "      <td>9,45</td>\n",
              "      <td>12,7</td>\n",
              "      <td>18,51</td>\n",
              "      <td>202108</td>\n",
              "      <td>17/09/2021 13:37:01</td>\n",
              "    </tr>\n",
              "    <tr>\n",
              "      <th>741</th>\n",
              "      <td>324213</td>\n",
              "      <td>UNIMED NORTE/NORDESTE-FEDERAï¿½ï¿½O INTERFEDER...</td>\n",
              "      <td>Mï¿½dico Hospitalar</td>\n",
              "      <td>Pequeno</td>\n",
              "      <td>2</td>\n",
              "      <td>1.0</td>\n",
              "      <td>271,29</td>\n",
              "      <td>396,29</td>\n",
              "      <td>511,87</td>\n",
              "      <td>566,3</td>\n",
              "      <td>538,36</td>\n",
              "      <td>458,69</td>\n",
              "      <td>466,24</td>\n",
              "      <td>609,25</td>\n",
              "      <td>729,95</td>\n",
              "      <td>821,09</td>\n",
              "      <td>878,8</td>\n",
              "      <td>#######</td>\n",
              "      <td>202108</td>\n",
              "      <td>17/09/2021 13:37:01</td>\n",
              "    </tr>\n",
              "    <tr>\n",
              "      <th>818</th>\n",
              "      <td>317896</td>\n",
              "      <td>UNIMED VERTENTE DO CAPARAï¿½ - COOPERATIVA DE ...</td>\n",
              "      <td>Mï¿½dico Hospitalar</td>\n",
              "      <td>Mï¿½dio</td>\n",
              "      <td>2</td>\n",
              "      <td>2.0</td>\n",
              "      <td>23,83</td>\n",
              "      <td>31,06</td>\n",
              "      <td>22,77</td>\n",
              "      <td>29,31</td>\n",
              "      <td>33,06</td>\n",
              "      <td>37,22</td>\n",
              "      <td>38,07</td>\n",
              "      <td>52,94</td>\n",
              "      <td>65,58</td>\n",
              "      <td>66,36</td>\n",
              "      <td>55,4</td>\n",
              "      <td>50,59</td>\n",
              "      <td>202108</td>\n",
              "      <td>17/09/2021 13:37:01</td>\n",
              "    </tr>\n",
              "    <tr>\n",
              "      <th>822</th>\n",
              "      <td>393321</td>\n",
              "      <td>UNIMED-RIO COOPERATIVA DE TRABALHO MEDICO DO R...</td>\n",
              "      <td>Mï¿½dico Hospitalar</td>\n",
              "      <td>Grande</td>\n",
              "      <td>3</td>\n",
              "      <td>3.0</td>\n",
              "      <td>10,03</td>\n",
              "      <td>13,87</td>\n",
              "      <td>14,02</td>\n",
              "      <td>16,18</td>\n",
              "      <td>15,64</td>\n",
              "      <td>14,16</td>\n",
              "      <td>11,99</td>\n",
              "      <td>11,33</td>\n",
              "      <td>13,31</td>\n",
              "      <td>15,67</td>\n",
              "      <td>17,05</td>\n",
              "      <td>16,5</td>\n",
              "      <td>202108</td>\n",
              "      <td>17/09/2021 13:37:01</td>\n",
              "    </tr>\n",
              "  </tbody>\n",
              "</table>\n",
              "</div>"
            ],
            "text/plain": [
              "     CD_OPERADORA  ... Data de atualizaï¿½ï¿½o\n",
              "38         314218  ...     17/09/2021 13:37:01\n",
              "116        415111  ...     17/09/2021 13:37:01\n",
              "246        416282  ...     17/09/2021 13:37:01\n",
              "281        323080  ...     17/09/2021 13:37:01\n",
              "404        402478  ...     17/09/2021 13:37:01\n",
              "508        320111  ...     17/09/2021 13:37:01\n",
              "741        324213  ...     17/09/2021 13:37:01\n",
              "818        317896  ...     17/09/2021 13:37:01\n",
              "822        393321  ...     17/09/2021 13:37:01\n",
              "\n",
              "[9 rows x 20 columns]"
            ]
          },
          "metadata": {},
          "execution_count": 100
        }
      ]
    },
    {
      "cell_type": "code",
      "metadata": {
        "id": "SHTca867U7zj"
      },
      "source": [
        "clas_ult_ms =list(dfclassificacao.Classificacao_ultimo_ms.values)"
      ],
      "execution_count": 101,
      "outputs": []
    },
    {
      "cell_type": "code",
      "metadata": {
        "id": "z011SEibYLu9",
        "colab": {
          "base_uri": "https://localhost:8080/"
        },
        "outputId": "5a56ade0-0314-438e-c353-36710ef7882e"
      },
      "source": [
        "list(dfclassificacao.Razao_Social.values)"
      ],
      "execution_count": 102,
      "outputs": [
        {
          "output_type": "execute_result",
          "data": {
            "text/plain": [
              "['ASSOCIAï¿½ï¿½O DE BENEFICï¿½NCIA E FILANTROPIA Sï¿½O CRISTOVï¿½O',\n",
              " 'BIOVIDA SAï¿½DE LTDA.',\n",
              " 'E.X.M BRASIL SAï¿½DE LTDA',\n",
              " 'GEAP AUTOGESTï¿½O EM SAï¿½DE',\n",
              " 'ORALCLASS ASSISTENCIA Mï¿½DICA E ODONTOLOGICA LTDA.',\n",
              " 'SAï¿½DE SIM LTDA',\n",
              " 'UNIMED NORTE/NORDESTE-FEDERAï¿½ï¿½O INTERFEDERATIVA DAS SOCIEDADES COOPERATIVAS DE TRABALHO Mï¿½DICO',\n",
              " 'UNIMED VERTENTE DO CAPARAï¿½ - COOPERATIVA DE TRABALHO Mï¿½DICO LTDA',\n",
              " 'UNIMED-RIO COOPERATIVA DE TRABALHO MEDICO DO RIO DE JANEIRO']"
            ]
          },
          "metadata": {},
          "execution_count": 102
        }
      ]
    },
    {
      "cell_type": "code",
      "metadata": {
        "id": "anP6BMvCYCw3"
      },
      "source": [
        "razao_social = list(dfclassificacao.Razao_Social.values)"
      ],
      "execution_count": 103,
      "outputs": []
    },
    {
      "cell_type": "code",
      "metadata": {
        "id": "zfHbdKjwVi-j",
        "colab": {
          "base_uri": "https://localhost:8080/"
        },
        "outputId": "a0bf09aa-c526-4b71-f39e-dcc5e135bb85"
      },
      "source": [
        "clas_ult_ms"
      ],
      "execution_count": 104,
      "outputs": [
        {
          "output_type": "execute_result",
          "data": {
            "text/plain": [
              "[1, 3, 1, 2, 3, 1, 2, 2, 3]"
            ]
          },
          "metadata": {},
          "execution_count": 104
        }
      ]
    },
    {
      "cell_type": "code",
      "metadata": {
        "id": "f1M3Hboffzul",
        "colab": {
          "base_uri": "https://localhost:8080/"
        },
        "outputId": "708a758f-7e75-47f6-a8b1-d22539436c79"
      },
      "source": [
        "razao_social"
      ],
      "execution_count": 105,
      "outputs": [
        {
          "output_type": "execute_result",
          "data": {
            "text/plain": [
              "['ASSOCIAï¿½ï¿½O DE BENEFICï¿½NCIA E FILANTROPIA Sï¿½O CRISTOVï¿½O',\n",
              " 'BIOVIDA SAï¿½DE LTDA.',\n",
              " 'E.X.M BRASIL SAï¿½DE LTDA',\n",
              " 'GEAP AUTOGESTï¿½O EM SAï¿½DE',\n",
              " 'ORALCLASS ASSISTENCIA Mï¿½DICA E ODONTOLOGICA LTDA.',\n",
              " 'SAï¿½DE SIM LTDA',\n",
              " 'UNIMED NORTE/NORDESTE-FEDERAï¿½ï¿½O INTERFEDERATIVA DAS SOCIEDADES COOPERATIVAS DE TRABALHO Mï¿½DICO',\n",
              " 'UNIMED VERTENTE DO CAPARAï¿½ - COOPERATIVA DE TRABALHO Mï¿½DICO LTDA',\n",
              " 'UNIMED-RIO COOPERATIVA DE TRABALHO MEDICO DO RIO DE JANEIRO']"
            ]
          },
          "metadata": {},
          "execution_count": 105
        }
      ]
    },
    {
      "cell_type": "code",
      "metadata": {
        "id": "NHF5-yMwbuNn",
        "colab": {
          "base_uri": "https://localhost:8080/",
          "height": 336
        },
        "outputId": "2e0a80b5-27fb-4307-fc6b-28d4c5f937bd"
      },
      "source": [
        "matplotlib.pyplot.plot(razao_social,clas_ult_ms)\n",
        "matplotlib.pyplot.ylim()"
      ],
      "execution_count": 108,
      "outputs": [
        {
          "output_type": "stream",
          "name": "stderr",
          "text": [
            "/usr/local/lib/python3.7/dist-packages/ipykernel_launcher.py:2: UserWarning: Attempting to set identical bottom == top == 1 results in singular transformations; automatically expanding.\n",
            "  \n"
          ]
        },
        {
          "output_type": "execute_result",
          "data": {
            "text/plain": [
              "(0.95, 1.05)"
            ]
          },
          "metadata": {},
          "execution_count": 108
        },
        {
          "output_type": "display_data",
          "data": {
            "image/png": "[encoded data removed]",
            "text/plain": [
              "<Figure size 432x288 with 1 Axes>"
            ]
          },
          "metadata": {
            "needs_background": "light"
          }
        }
      ]
    },
    {
      "cell_type": "code",
      "metadata": {
        "id": "4VgtRFOS6Gr6"
      },
      "source": [
        ""
      ],
      "execution_count": null,
      "outputs": []
    },
    {
      "cell_type": "code",
      "metadata": {
        "id": "u7J3savs6G0f"
      },
      "source": [
        "filtro = dfclassificacao.filter(items=['Razao_Social','Classificacao_ultimo_ms'])\n",
        "groupby=(['Classificacao_ultimo_ms','Razao_Social'])\n"
      ],
      "execution_count": 144,
      "outputs": []
    },
    {
      "cell_type": "code",
      "metadata": {
        "id": "18g6zKaf8Px4",
        "outputId": "5777060d-a24a-44ff-ee50-d05f47503f25",
        "colab": {
          "base_uri": "https://localhost:8080/",
          "height": 328
        }
      },
      "source": [
        "filtro"
      ],
      "execution_count": 145,
      "outputs": [
        {
          "output_type": "execute_result",
          "data": {
            "text/html": [
              "<div>\n",
              "<style scoped>\n",
              "    .dataframe tbody tr th:only-of-type {\n",
              "        vertical-align: middle;\n",
              "    }\n",
              "\n",
              "    .dataframe tbody tr th {\n",
              "        vertical-align: top;\n",
              "    }\n",
              "\n",
              "    .dataframe thead th {\n",
              "        text-align: right;\n",
              "    }\n",
              "</style>\n",
              "<table border=\"1\" class=\"dataframe\">\n",
              "  <thead>\n",
              "    <tr style=\"text-align: right;\">\n",
              "      <th></th>\n",
              "      <th>Razao_Social</th>\n",
              "      <th>Classificacao_ultimo_ms</th>\n",
              "    </tr>\n",
              "  </thead>\n",
              "  <tbody>\n",
              "    <tr>\n",
              "      <th>38</th>\n",
              "      <td>ASSOCIAï¿½ï¿½O DE BENEFICï¿½NCIA E FILANTROPIA...</td>\n",
              "      <td>1</td>\n",
              "    </tr>\n",
              "    <tr>\n",
              "      <th>116</th>\n",
              "      <td>BIOVIDA SAï¿½DE LTDA.</td>\n",
              "      <td>3</td>\n",
              "    </tr>\n",
              "    <tr>\n",
              "      <th>246</th>\n",
              "      <td>E.X.M BRASIL SAï¿½DE LTDA</td>\n",
              "      <td>1</td>\n",
              "    </tr>\n",
              "    <tr>\n",
              "      <th>281</th>\n",
              "      <td>GEAP AUTOGESTï¿½O EM SAï¿½DE</td>\n",
              "      <td>2</td>\n",
              "    </tr>\n",
              "    <tr>\n",
              "      <th>404</th>\n",
              "      <td>ORALCLASS ASSISTENCIA Mï¿½DICA E ODONTOLOGICA ...</td>\n",
              "      <td>3</td>\n",
              "    </tr>\n",
              "    <tr>\n",
              "      <th>508</th>\n",
              "      <td>SAï¿½DE SIM LTDA</td>\n",
              "      <td>1</td>\n",
              "    </tr>\n",
              "    <tr>\n",
              "      <th>741</th>\n",
              "      <td>UNIMED NORTE/NORDESTE-FEDERAï¿½ï¿½O INTERFEDER...</td>\n",
              "      <td>2</td>\n",
              "    </tr>\n",
              "    <tr>\n",
              "      <th>818</th>\n",
              "      <td>UNIMED VERTENTE DO CAPARAï¿½ - COOPERATIVA DE ...</td>\n",
              "      <td>2</td>\n",
              "    </tr>\n",
              "    <tr>\n",
              "      <th>822</th>\n",
              "      <td>UNIMED-RIO COOPERATIVA DE TRABALHO MEDICO DO R...</td>\n",
              "      <td>3</td>\n",
              "    </tr>\n",
              "  </tbody>\n",
              "</table>\n",
              "</div>"
            ],
            "text/plain": [
              "                                          Razao_Social  Classificacao_ultimo_ms\n",
              "38   ASSOCIAï¿½ï¿½O DE BENEFICï¿½NCIA E FILANTROPIA...                        1\n",
              "116                              BIOVIDA SAï¿½DE LTDA.                        3\n",
              "246                          E.X.M BRASIL SAï¿½DE LTDA                        1\n",
              "281                       GEAP AUTOGESTï¿½O EM SAï¿½DE                        2\n",
              "404  ORALCLASS ASSISTENCIA Mï¿½DICA E ODONTOLOGICA ...                        3\n",
              "508                                   SAï¿½DE SIM LTDA                        1\n",
              "741  UNIMED NORTE/NORDESTE-FEDERAï¿½ï¿½O INTERFEDER...                        2\n",
              "818  UNIMED VERTENTE DO CAPARAï¿½ - COOPERATIVA DE ...                        2\n",
              "822  UNIMED-RIO COOPERATIVA DE TRABALHO MEDICO DO R...                        3"
            ]
          },
          "metadata": {},
          "execution_count": 145
        }
      ]
    },
    {
      "cell_type": "code",
      "metadata": {
        "id": "76B8OuJ7cI5r",
        "outputId": "d2fda9ba-fdb6-4af9-b79a-663760ad1029",
        "colab": {
          "base_uri": "https://localhost:8080/",
          "height": 231
        }
      },
      "source": [
        "#criando uma figure, axes\n",
        "fig, ax = plt.subplots()\n",
        "#criando o gráfico de barras \n",
        "sns.barplot(x=df.index, y=df['quantidade'], ax=ax, data=df)\n",
        "#otimizar espaço da figure\n",
        "fig.tight_layout();"
      ],
      "execution_count": 107,
      "outputs": [
        {
          "output_type": "error",
          "ename": "NameError",
          "evalue": "ignored",
          "traceback": [
            "\u001b[0;31m---------------------------------------------------------------------------\u001b[0m",
            "\u001b[0;31mNameError\u001b[0m                                 Traceback (most recent call last)",
            "\u001b[0;32m<ipython-input-107-86c199acfc7e>\u001b[0m in \u001b[0;36m<module>\u001b[0;34m()\u001b[0m\n\u001b[1;32m      1\u001b[0m \u001b[0;31m#criando uma figure, axes\u001b[0m\u001b[0;34m\u001b[0m\u001b[0;34m\u001b[0m\u001b[0;34m\u001b[0m\u001b[0m\n\u001b[0;32m----> 2\u001b[0;31m \u001b[0mfig\u001b[0m\u001b[0;34m,\u001b[0m \u001b[0max\u001b[0m \u001b[0;34m=\u001b[0m \u001b[0mplt\u001b[0m\u001b[0;34m.\u001b[0m\u001b[0msubplots\u001b[0m\u001b[0;34m(\u001b[0m\u001b[0;34m)\u001b[0m\u001b[0;34m\u001b[0m\u001b[0;34m\u001b[0m\u001b[0m\n\u001b[0m\u001b[1;32m      3\u001b[0m \u001b[0;31m#criando o gráfico de barras\u001b[0m\u001b[0;34m\u001b[0m\u001b[0;34m\u001b[0m\u001b[0;34m\u001b[0m\u001b[0m\n\u001b[1;32m      4\u001b[0m \u001b[0msns\u001b[0m\u001b[0;34m.\u001b[0m\u001b[0mbarplot\u001b[0m\u001b[0;34m(\u001b[0m\u001b[0mx\u001b[0m\u001b[0;34m=\u001b[0m\u001b[0mdf\u001b[0m\u001b[0;34m.\u001b[0m\u001b[0mindex\u001b[0m\u001b[0;34m,\u001b[0m \u001b[0my\u001b[0m\u001b[0;34m=\u001b[0m\u001b[0mdf\u001b[0m\u001b[0;34m[\u001b[0m\u001b[0;34m'quantidade'\u001b[0m\u001b[0;34m]\u001b[0m\u001b[0;34m,\u001b[0m \u001b[0max\u001b[0m\u001b[0;34m=\u001b[0m\u001b[0max\u001b[0m\u001b[0;34m,\u001b[0m \u001b[0mdata\u001b[0m\u001b[0;34m=\u001b[0m\u001b[0mdf\u001b[0m\u001b[0;34m)\u001b[0m\u001b[0;34m\u001b[0m\u001b[0;34m\u001b[0m\u001b[0m\n\u001b[1;32m      5\u001b[0m \u001b[0;31m#otimizar espaço da figure\u001b[0m\u001b[0;34m\u001b[0m\u001b[0;34m\u001b[0m\u001b[0;34m\u001b[0m\u001b[0m\n",
            "\u001b[0;31mNameError\u001b[0m: name 'plt' is not defined"
          ]
        }
      ]
    }
  ]
}