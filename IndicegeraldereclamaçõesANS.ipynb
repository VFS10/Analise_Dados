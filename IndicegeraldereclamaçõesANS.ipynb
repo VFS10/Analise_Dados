{
  "nbformat": 4,
  "nbformat_minor": 0,
  "metadata": {
    "colab": {
      "name": "IndicegeraldereclamaçõesANS.ipynb",
      "provenance": [],
      "authorship_tag": "ABX9TyNgX2cAKvdd2ryEKq/kXluJ",
      "include_colab_link": true
    },
    "kernelspec": {
      "name": "python3",
      "display_name": "Python 3"
    },
    "language_info": {
      "name": "python"
    }
  },
  "cells": [
    {
      "cell_type": "markdown",
      "metadata": {
        "id": "view-in-github",
        "colab_type": "text"
      },
      "source": [
        "<a href=\"https://colab.research.google.com/github/Viniciusfersan89/Analise_Dados/blob/master/Indicegeraldereclama%C3%A7%C3%B5esANS.ipynb\" target=\"_parent\"><img src=\"https://colab.research.google.com/assets/colab-badge.svg\" alt=\"Open In Colab\"/></a>"
      ]
    },
    {
      "cell_type": "markdown",
      "metadata": {
        "id": "j7eZhgTg_DpW"
      },
      "source": [
        "Analisando o indice geral de reclamações ANS - 08072021\n"
      ]
    },
    {
      "cell_type": "code",
      "metadata": {
        "id": "jsX65XXL_PBN"
      },
      "source": [
        "import pandas as pd\n",
        "import matplotlib as mtl"
      ],
      "execution_count": 2,
      "outputs": []
    },
    {
      "cell_type": "code",
      "metadata": {
        "id": "uAeF41dQ_kmB"
      },
      "source": [
        "df = pd.read_csv('Indice_geral_Reclamações_08072021.csv',encoding='latin-1', sep=';')"
      ],
      "execution_count": 18,
      "outputs": []
    },
    {
      "cell_type": "code",
      "metadata": {
        "colab": {
          "base_uri": "https://localhost:8080/",
          "height": 949
        },
        "id": "ueG8hIaOOcaA",
        "outputId": "3bec3f67-fbbf-462a-9686-a2a66186ec48"
      },
      "source": [
        "df"
      ],
      "execution_count": 20,
      "outputs": [
        {
          "output_type": "execute_result",
          "data": {
            "text/html": [
              "<div>\n",
              "<style scoped>\n",
              "    .dataframe tbody tr th:only-of-type {\n",
              "        vertical-align: middle;\n",
              "    }\n",
              "\n",
              "    .dataframe tbody tr th {\n",
              "        vertical-align: top;\n",
              "    }\n",
              "\n",
              "    .dataframe thead th {\n",
              "        text-align: right;\n",
              "    }\n",
              "</style>\n",
              "<table border=\"1\" class=\"dataframe\">\n",
              "  <thead>\n",
              "    <tr style=\"text-align: right;\">\n",
              "      <th></th>\n",
              "      <th>CD_OPERADORA</th>\n",
              "      <th>Razao_Social</th>\n",
              "      <th>Cobertura</th>\n",
              "      <th>Porte</th>\n",
              "      <th>Classificação no Mês</th>\n",
              "      <th>Classificação no Mês Anterior</th>\n",
              "      <th>Ago/21</th>\n",
              "      <th>Jul/21</th>\n",
              "      <th>Jun/21</th>\n",
              "      <th>Mai/21</th>\n",
              "      <th>Abr/21</th>\n",
              "      <th>Mar/21</th>\n",
              "      <th>Fev/21</th>\n",
              "      <th>Jan/21</th>\n",
              "      <th>Dez/20</th>\n",
              "      <th>Nov/20</th>\n",
              "      <th>Out/20</th>\n",
              "      <th>Set/20</th>\n",
              "      <th>Competência</th>\n",
              "      <th>Data de atualização</th>\n",
              "    </tr>\n",
              "  </thead>\n",
              "  <tbody>\n",
              "    <tr>\n",
              "      <th>0</th>\n",
              "      <td>418374</td>\n",
              "      <td>CAIXA DE ASSISTÊNCIA DO SETOR DE ENERGIA -EVI...</td>\n",
              "      <td>Médico Hospitalar</td>\n",
              "      <td>Pequeno</td>\n",
              "      <td>49</td>\n",
              "      <td>50.0</td>\n",
              "      <td>5,55</td>\n",
              "      <td>8,27</td>\n",
              "      <td>7,66</td>\n",
              "      <td>4,27</td>\n",
              "      <td>3,52</td>\n",
              "      <td>2,38</td>\n",
              "      <td>2,71</td>\n",
              "      <td>0,90</td>\n",
              "      <td>0,90</td>\n",
              "      <td>2,25</td>\n",
              "      <td>2,70</td>\n",
              "      <td>4,95</td>\n",
              "      <td>202108</td>\n",
              "      <td>17/09/2021 13:37:01</td>\n",
              "    </tr>\n",
              "    <tr>\n",
              "      <th>1</th>\n",
              "      <td>314668</td>\n",
              "      <td>ABERTTA SAÚDE - ASSOCIAÇÃO BENEFICENTE DOS EMP...</td>\n",
              "      <td>Médico Hospitalar</td>\n",
              "      <td>Médio</td>\n",
              "      <td>167</td>\n",
              "      <td>204.0</td>\n",
              "      <td>0,62</td>\n",
              "      <td>0,42</td>\n",
              "      <td>0,21</td>\n",
              "      <td>0,21</td>\n",
              "      <td>0,21</td>\n",
              "      <td>0,42</td>\n",
              "      <td>0,21</td>\n",
              "      <td>0,21</td>\n",
              "      <td>0,00</td>\n",
              "      <td>0,00</td>\n",
              "      <td>0,00</td>\n",
              "      <td>0,00</td>\n",
              "      <td>202108</td>\n",
              "      <td>17/09/2021 13:37:01</td>\n",
              "    </tr>\n",
              "    <tr>\n",
              "      <th>2</th>\n",
              "      <td>335657</td>\n",
              "      <td>ADVANCE PLANOS DE SAÚDE LTDA</td>\n",
              "      <td>Médico Hospitalar</td>\n",
              "      <td>Pequeno</td>\n",
              "      <td>26</td>\n",
              "      <td>31.0</td>\n",
              "      <td>12,02</td>\n",
              "      <td>15,87</td>\n",
              "      <td>11,82</td>\n",
              "      <td>7,82</td>\n",
              "      <td>3,89</td>\n",
              "      <td>3,86</td>\n",
              "      <td>7,67</td>\n",
              "      <td>11,43</td>\n",
              "      <td>11,37</td>\n",
              "      <td>7,54</td>\n",
              "      <td>14,99</td>\n",
              "      <td>22,35</td>\n",
              "      <td>202108</td>\n",
              "      <td>17/09/2021 13:37:01</td>\n",
              "    </tr>\n",
              "    <tr>\n",
              "      <th>3</th>\n",
              "      <td>413283</td>\n",
              "      <td>AESP ODONTO ASSISTÊNCIA ODONTOLÓGICA S/S LTDA EPP</td>\n",
              "      <td>Odontológica</td>\n",
              "      <td>Médio</td>\n",
              "      <td>12</td>\n",
              "      <td>7.0</td>\n",
              "      <td>0,14</td>\n",
              "      <td>0,29</td>\n",
              "      <td>0,30</td>\n",
              "      <td>0,15</td>\n",
              "      <td>0,00</td>\n",
              "      <td>0,00</td>\n",
              "      <td>0,00</td>\n",
              "      <td>0,00</td>\n",
              "      <td>0,00</td>\n",
              "      <td>0,00</td>\n",
              "      <td>0,19</td>\n",
              "      <td>0,39</td>\n",
              "      <td>202108</td>\n",
              "      <td>17/09/2021 13:37:01</td>\n",
              "    </tr>\n",
              "    <tr>\n",
              "      <th>4</th>\n",
              "      <td>368920</td>\n",
              "      <td>AGROS - INSTITUTO UFV DE SEGURIDADE SOCIAL</td>\n",
              "      <td>Médico Hospitalar</td>\n",
              "      <td>Pequeno</td>\n",
              "      <td>153</td>\n",
              "      <td>116.0</td>\n",
              "      <td>0,66</td>\n",
              "      <td>1,96</td>\n",
              "      <td>1,96</td>\n",
              "      <td>2,61</td>\n",
              "      <td>3,25</td>\n",
              "      <td>2,60</td>\n",
              "      <td>1,94</td>\n",
              "      <td>0,00</td>\n",
              "      <td>0,00</td>\n",
              "      <td>0,00</td>\n",
              "      <td>0,00</td>\n",
              "      <td>0,00</td>\n",
              "      <td>202108</td>\n",
              "      <td>17/09/2021 13:37:01</td>\n",
              "    </tr>\n",
              "    <tr>\n",
              "      <th>...</th>\n",
              "      <td>...</td>\n",
              "      <td>...</td>\n",
              "      <td>...</td>\n",
              "      <td>...</td>\n",
              "      <td>...</td>\n",
              "      <td>...</td>\n",
              "      <td>...</td>\n",
              "      <td>...</td>\n",
              "      <td>...</td>\n",
              "      <td>...</td>\n",
              "      <td>...</td>\n",
              "      <td>...</td>\n",
              "      <td>...</td>\n",
              "      <td>...</td>\n",
              "      <td>...</td>\n",
              "      <td>...</td>\n",
              "      <td>...</td>\n",
              "      <td>...</td>\n",
              "      <td>...</td>\n",
              "      <td>...</td>\n",
              "    </tr>\n",
              "    <tr>\n",
              "      <th>920</th>\n",
              "      <td>421049</td>\n",
              "      <td>W. DENTAL PLANOS ODONTOLÓGICOS S.A</td>\n",
              "      <td>Odontológica</td>\n",
              "      <td>Pequeno</td>\n",
              "      <td>2</td>\n",
              "      <td>1.0</td>\n",
              "      <td>3,94</td>\n",
              "      <td>5,88</td>\n",
              "      <td>2,03</td>\n",
              "      <td>2,09</td>\n",
              "      <td>2,14</td>\n",
              "      <td>2,20</td>\n",
              "      <td>6,87</td>\n",
              "      <td>7,25</td>\n",
              "      <td>10,55</td>\n",
              "      <td>6,11</td>\n",
              "      <td>7,27</td>\n",
              "      <td>9,04</td>\n",
              "      <td>202108</td>\n",
              "      <td>17/09/2021 13:37:01</td>\n",
              "    </tr>\n",
              "    <tr>\n",
              "      <th>921</th>\n",
              "      <td>351628</td>\n",
              "      <td>WM ADMINISTRAÇÃO DE PLANOS ODONTOLÓGICOS LTDA.</td>\n",
              "      <td>Odontológica</td>\n",
              "      <td>Pequeno</td>\n",
              "      <td>7</td>\n",
              "      <td>8.0</td>\n",
              "      <td>0,00</td>\n",
              "      <td>0,00</td>\n",
              "      <td>0,00</td>\n",
              "      <td>0,00</td>\n",
              "      <td>0,00</td>\n",
              "      <td>0,00</td>\n",
              "      <td>0,00</td>\n",
              "      <td>0,00</td>\n",
              "      <td>0,00</td>\n",
              "      <td>0,00</td>\n",
              "      <td>0,00</td>\n",
              "      <td>0,00</td>\n",
              "      <td>202108</td>\n",
              "      <td>17/09/2021 13:37:01</td>\n",
              "    </tr>\n",
              "    <tr>\n",
              "      <th>922</th>\n",
              "      <td>422380</td>\n",
              "      <td>YOU ASSISTÊNCIA MÉDICA LTDA.</td>\n",
              "      <td>Médico Hospitalar</td>\n",
              "      <td>Pequeno</td>\n",
              "      <td>15</td>\n",
              "      <td>16.0</td>\n",
              "      <td>24,84</td>\n",
              "      <td>33,05</td>\n",
              "      <td>20,89</td>\n",
              "      <td>0,00</td>\n",
              "      <td>0,00</td>\n",
              "      <td>0,00</td>\n",
              "      <td>26,04</td>\n",
              "      <td>42,13</td>\n",
              "      <td>87,72</td>\n",
              "      <td>NaN</td>\n",
              "      <td>NaN</td>\n",
              "      <td>NaN</td>\n",
              "      <td>202108</td>\n",
              "      <td>17/09/2021 13:37:01</td>\n",
              "    </tr>\n",
              "    <tr>\n",
              "      <th>923</th>\n",
              "      <td>419354</td>\n",
              "      <td>ZURICH SANTANDER BRASIL ODONTO LTDA.</td>\n",
              "      <td>Odontológica</td>\n",
              "      <td>Médio</td>\n",
              "      <td>2</td>\n",
              "      <td>3.0</td>\n",
              "      <td>0,72</td>\n",
              "      <td>0,49</td>\n",
              "      <td>0,49</td>\n",
              "      <td>0,76</td>\n",
              "      <td>0,76</td>\n",
              "      <td>0,75</td>\n",
              "      <td>0,49</td>\n",
              "      <td>0,72</td>\n",
              "      <td>0,71</td>\n",
              "      <td>0,46</td>\n",
              "      <td>0,69</td>\n",
              "      <td>0,92</td>\n",
              "      <td>202108</td>\n",
              "      <td>17/09/2021 13:37:01</td>\n",
              "    </tr>\n",
              "    <tr>\n",
              "      <th>924</th>\n",
              "      <td>421421</td>\n",
              "      <td>2CARE OPERADORA DE SAÚDE LTDA.</td>\n",
              "      <td>Médico Hospitalar</td>\n",
              "      <td>Médio</td>\n",
              "      <td>108</td>\n",
              "      <td>87.0</td>\n",
              "      <td>1,44</td>\n",
              "      <td>2,53</td>\n",
              "      <td>2,16</td>\n",
              "      <td>3,24</td>\n",
              "      <td>1,79</td>\n",
              "      <td>1,79</td>\n",
              "      <td>1,42</td>\n",
              "      <td>1,78</td>\n",
              "      <td>2,12</td>\n",
              "      <td>1,04</td>\n",
              "      <td>0,00</td>\n",
              "      <td>0,00</td>\n",
              "      <td>202108</td>\n",
              "      <td>17/09/2021 13:37:01</td>\n",
              "    </tr>\n",
              "  </tbody>\n",
              "</table>\n",
              "<p>925 rows × 20 columns</p>\n",
              "</div>"
            ],
            "text/plain": [
              "     CD_OPERADORA  ...  Data de atualização\n",
              "0          418374  ...  17/09/2021 13:37:01\n",
              "1          314668  ...  17/09/2021 13:37:01\n",
              "2          335657  ...  17/09/2021 13:37:01\n",
              "3          413283  ...  17/09/2021 13:37:01\n",
              "4          368920  ...  17/09/2021 13:37:01\n",
              "..            ...  ...                  ...\n",
              "920        421049  ...  17/09/2021 13:37:01\n",
              "921        351628  ...  17/09/2021 13:37:01\n",
              "922        422380  ...  17/09/2021 13:37:01\n",
              "923        419354  ...  17/09/2021 13:37:01\n",
              "924        421421  ...  17/09/2021 13:37:01\n",
              "\n",
              "[925 rows x 20 columns]"
            ]
          },
          "metadata": {},
          "execution_count": 20
        }
      ]
    },
    {
      "cell_type": "code",
      "metadata": {
        "colab": {
          "base_uri": "https://localhost:8080/"
        },
        "id": "Zp1v7KP2PVvO",
        "outputId": "acd59963-ecc3-443d-d5c5-8fa1744089c1"
      },
      "source": [
        "df.columns"
      ],
      "execution_count": 21,
      "outputs": [
        {
          "output_type": "execute_result",
          "data": {
            "text/plain": [
              "Index(['CD_OPERADORA', 'Razao_Social', 'Cobertura', 'Porte',\n",
              "       'Classificação no Mês', 'Classificação no Mês Anterior', 'Ago/21',\n",
              "       'Jul/21', 'Jun/21', 'Mai/21', 'Abr/21', 'Mar/21', 'Fev/21', 'Jan/21',\n",
              "       'Dez/20', 'Nov/20', 'Out/20', 'Set/20', 'Competência',\n",
              "       'Data de atualização'],\n",
              "      dtype='object')"
            ]
          },
          "metadata": {},
          "execution_count": 21
        }
      ]
    },
    {
      "cell_type": "markdown",
      "metadata": {
        "id": "p0CAMyDSQeef"
      },
      "source": [
        ""
      ]
    },
    {
      "cell_type": "code",
      "metadata": {
        "colab": {
          "base_uri": "https://localhost:8080/"
        },
        "id": "ktejVEKCPs76",
        "outputId": "de899f10-a411-4228-a14c-e236b53ac65c"
      },
      "source": [
        "df.groupby(by=\"Data de atualização\")"
      ],
      "execution_count": 25,
      "outputs": [
        {
          "output_type": "execute_result",
          "data": {
            "text/plain": [
              "<pandas.core.groupby.generic.DataFrameGroupBy object at 0x7eff46933710>"
            ]
          },
          "metadata": {},
          "execution_count": 25
        }
      ]
    },
    {
      "cell_type": "code",
      "metadata": {
        "colab": {
          "base_uri": "https://localhost:8080/"
        },
        "id": "0rdb8-_DQez8",
        "outputId": "fec2b6ef-1f8b-4a82-d5f8-cff05ab3bad8"
      },
      "source": [
        "df.median()"
      ],
      "execution_count": 27,
      "outputs": [
        {
          "output_type": "execute_result",
          "data": {
            "text/plain": [
              "CD_OPERADORA                     357669.0\n",
              "Classificação no Mês                 76.0\n",
              "Classificação no Mês Anterior        75.5\n",
              "Competência                      202108.0\n",
              "dtype: float64"
            ]
          },
          "metadata": {},
          "execution_count": 27
        }
      ]
    }
  ]
}